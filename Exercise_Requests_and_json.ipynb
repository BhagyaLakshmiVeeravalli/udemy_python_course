{
 "cells": [
  {
   "cell_type": "markdown",
   "id": "b3718b65",
   "metadata": {},
   "source": [
    "### EXERCISE:\n",
    "- ***Create a quizzing game. make an HTTP request to the Open Trivia API at each round of the game to get a new question and present it to the user to answer. At the end of each round ask the user if he wants to play again. Keep playing forever until the user types \"quit\".***\n",
    "- ***Don't forget to tell if the answer is correct or not at each round and keep the user's score.***"
   ]
  },
  {
   "cell_type": "code",
   "execution_count": 5,
   "id": "01a3f800",
   "metadata": {},
   "outputs": [
    {
     "name": "stdout",
     "output_type": "stream",
     "text": [
      "What is the area of a circle with a diameter of 20 inches if π= 3.1415?\n",
      "\n",
      "1- 380.1215 Inches\n",
      "2- 314.15 Inches\n",
      "3- 1256.6 Inches\n",
      "4- 3141.5 Inches\n",
      "\n",
      "Type the number of the correct answer - 2\n",
      "\n",
      "Congratulations! You answered correctly! The correct answer was:  314.15 Inches\n",
      "\n",
      "=====================================================\n",
      "Your score is:\n",
      "Correct answers : 1\n",
      "Incorrect answers : 0\n",
      "\n",
      "=====================================================\n",
      "\n",
      "Press enter to play again or type 'quit' to quit the game.QUIT\n",
      "\n",
      "Thanks for playing\n"
     ]
    }
   ],
   "source": [
    "import requests\n",
    "import json\n",
    "import pprint\n",
    "import random\n",
    "import html\n",
    "\n",
    "score_correct = 0\n",
    "score_incorrect = 0\n",
    "\n",
    "url = 'https://opentdb.com/api.php?amount=1'\n",
    "endGame = \"\"\n",
    "\n",
    "while endGame != \"quit\" :\n",
    "    r = requests.get(url)\n",
    "    if (r.status_code != 200) :\n",
    "        endGame = input(\"Sorry, there was a problem retrieving the question. Press enter to try again or type 'quit' to quit the game.\")\n",
    "    else :\n",
    "        valid_answer = False\n",
    "        answer_number = 1\n",
    "        data = json.loads(r.text)\n",
    "        question = data['results'][0]['question']\n",
    "        answers = data['results'][0]['incorrect_answers']\n",
    "        correct_answer = data['results'][0]['correct_answer']\n",
    "        answers.append(correct_answer)\n",
    "        random.shuffle(answers)\n",
    "        \n",
    "        print(html.unescape(question + '\\n'))\n",
    "        \n",
    "        for answer in answers :\n",
    "            print(str(answer_number) + \"- \" + html.unescape(answer))\n",
    "            answer_number += 1\n",
    "        \n",
    "        while valid_answer == False :\n",
    "            user_answer = input(\"\\nType the number of the correct answer - \")\n",
    "            try :\n",
    "                user_answer = int(user_answer)\n",
    "                if user_answer > len(answers) or user_answer <= 0 :\n",
    "                    print(\"Invalid answer.\")\n",
    "                else :\n",
    "                    valid_answer = True\n",
    "            except :\n",
    "                print(\"Invalid answer. Use only numbers\")\n",
    "                \n",
    "        user_answer = answers[int(user_answer)-1]\n",
    "        \n",
    "        if user_answer == correct_answer :\n",
    "            print(\"\\nCongratulations! You answered correctly! The correct answer was: \", html.unescape(correct_answer))\n",
    "            score_correct += 1\n",
    "                            \n",
    "        else :\n",
    "            print(\"Sorry, \" + html.unescape(user_answer) + \"is incorrect. The correct answer is \", html.unescape(correct_answer))\n",
    "            score_incorrect += 1\n",
    "                            \n",
    "        print(\"\\n=====================================================\")\n",
    "        print(\"Your score is:\")\n",
    "        print(\"Correct answers : \" + str(score_correct))\n",
    "        print(\"Incorrect answers : \" +str(score_incorrect))\n",
    "        print(\"\\n=====================================================\")\n",
    "                            \n",
    "        endGame = input(\"\\nPress enter to play again or type 'quit' to quit the game.\").lower()\n",
    "        \n",
    "print('\\nThanks for playing')"
   ]
  },
  {
   "cell_type": "code",
   "execution_count": null,
   "id": "66abf1a8",
   "metadata": {},
   "outputs": [],
   "source": []
  },
  {
   "cell_type": "code",
   "execution_count": null,
   "id": "38059bc0",
   "metadata": {},
   "outputs": [],
   "source": []
  }
 ],
 "metadata": {
  "kernelspec": {
   "display_name": "Python 3",
   "language": "python",
   "name": "python3"
  },
  "language_info": {
   "codemirror_mode": {
    "name": "ipython",
    "version": 3
   },
   "file_extension": ".py",
   "mimetype": "text/x-python",
   "name": "python",
   "nbconvert_exporter": "python",
   "pygments_lexer": "ipython3",
   "version": "3.8.8"
  }
 },
 "nbformat": 4,
 "nbformat_minor": 5
}
