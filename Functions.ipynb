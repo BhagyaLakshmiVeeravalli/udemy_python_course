{
 "cells": [
  {
   "cell_type": "code",
   "execution_count": 2,
   "id": "3c4f04a3",
   "metadata": {},
   "outputs": [
    {
     "name": "stdout",
     "output_type": "stream",
     "text": [
      "Hello!\n"
     ]
    }
   ],
   "source": [
    "def say_hello() :\n",
    "    print(\"Hello!\")\n",
    "    \n",
    "say_hello()"
   ]
  },
  {
   "cell_type": "code",
   "execution_count": 5,
   "id": "728bf940",
   "metadata": {},
   "outputs": [
    {
     "name": "stdout",
     "output_type": "stream",
     "text": [
      "Hello mary, how are you doing?\n",
      "Hello Bhagya, how are you doing?\n"
     ]
    }
   ],
   "source": [
    "def say_hello(person) :\n",
    "    print('Hello ' + person + ', how are you doing?')\n",
    "    \n",
    "say_hello('mary')\n",
    "say_hello('Bhagya')"
   ]
  },
  {
   "cell_type": "code",
   "execution_count": 8,
   "id": "f6a53476",
   "metadata": {},
   "outputs": [
    {
     "name": "stdout",
     "output_type": "stream",
     "text": [
      "Celsius : 37.78\n",
      "Kelvin : 311.28\n"
     ]
    }
   ],
   "source": [
    "def say_hello(person) :\n",
    "    print('Hello ' + person + ', how are you doing?')\n",
    "    \n",
    "def fahr2celsius(fahr) :\n",
    "    celsius = (5 * (fahr - 32)) / 9\n",
    "    return celsius\n",
    "\n",
    "print('Celsius :', round(fahr2celsius(100), 2))\n",
    "print('Kelvin :', round(fahr2celsius(100) + 273.5, 2))"
   ]
  },
  {
   "cell_type": "code",
   "execution_count": 11,
   "id": "f7d914e0",
   "metadata": {},
   "outputs": [
    {
     "name": "stdout",
     "output_type": "stream",
     "text": [
      "Hello Jane, how are you doing? Mary is waiting for you.\n"
     ]
    }
   ],
   "source": [
    "def say_hello(person1, person2) :\n",
    "    print('Hello ' + person1 + ', how are you doing? ' + person2 + ' is waiting for you.')\n",
    "    \n",
    "say_hello('Jane', 'Mary')"
   ]
  },
  {
   "cell_type": "code",
   "execution_count": 15,
   "id": "32af28df",
   "metadata": {},
   "outputs": [
    {
     "name": "stdout",
     "output_type": "stream",
     "text": [
      "Hello Jane, how are you doing? Mary is waiting for you.\n",
      "Hello Bhagya, how are you doing? The director is waiting for you.\n"
     ]
    }
   ],
   "source": [
    "def say_hello(person1, person2 = 'The director') :\n",
    "    print('Hello ' + person1 + ', how are you doing? ' + person2 + ' is waiting for you.')\n",
    "    \n",
    "say_hello('Jane', 'Mary')\n",
    "say_hello('Bhagya')"
   ]
  },
  {
   "cell_type": "code",
   "execution_count": null,
   "id": "70ed2143",
   "metadata": {},
   "outputs": [],
   "source": []
  }
 ],
 "metadata": {
  "kernelspec": {
   "display_name": "Python 3",
   "language": "python",
   "name": "python3"
  },
  "language_info": {
   "codemirror_mode": {
    "name": "ipython",
    "version": 3
   },
   "file_extension": ".py",
   "mimetype": "text/x-python",
   "name": "python",
   "nbconvert_exporter": "python",
   "pygments_lexer": "ipython3",
   "version": "3.8.8"
  }
 },
 "nbformat": 4,
 "nbformat_minor": 5
}
