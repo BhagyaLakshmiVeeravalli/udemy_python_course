{
 "cells": [
  {
   "cell_type": "markdown",
   "id": "5a742f79",
   "metadata": {},
   "source": [
    "### Data types - Lists and Tuples:"
   ]
  },
  {
   "cell_type": "code",
   "execution_count": 1,
   "id": "f2e92d64",
   "metadata": {},
   "outputs": [],
   "source": [
    "students = \"John, Mary, Steve\""
   ]
  },
  {
   "cell_type": "markdown",
   "id": "b68ff8cb",
   "metadata": {},
   "source": [
    "### LISTS:"
   ]
  },
  {
   "cell_type": "code",
   "execution_count": 6,
   "id": "a4373314",
   "metadata": {},
   "outputs": [],
   "source": [
    "students = [\"John\", \"Mary\", \"Steve\"]"
   ]
  },
  {
   "cell_type": "code",
   "execution_count": 7,
   "id": "0e380e09",
   "metadata": {},
   "outputs": [
    {
     "data": {
      "text/plain": [
       "list"
      ]
     },
     "execution_count": 7,
     "metadata": {},
     "output_type": "execute_result"
    }
   ],
   "source": [
    "type(students)"
   ]
  },
  {
   "cell_type": "code",
   "execution_count": 8,
   "id": "041fe8db",
   "metadata": {},
   "outputs": [
    {
     "data": {
      "text/plain": [
       "3"
      ]
     },
     "execution_count": 8,
     "metadata": {},
     "output_type": "execute_result"
    }
   ],
   "source": [
    "len(students)"
   ]
  },
  {
   "cell_type": "code",
   "execution_count": 9,
   "id": "cae70a86",
   "metadata": {},
   "outputs": [
    {
     "data": {
      "text/plain": [
       "'John'"
      ]
     },
     "execution_count": 9,
     "metadata": {},
     "output_type": "execute_result"
    }
   ],
   "source": [
    "students[0]"
   ]
  },
  {
   "cell_type": "code",
   "execution_count": 10,
   "id": "0005392f",
   "metadata": {},
   "outputs": [
    {
     "data": {
      "text/plain": [
       "'Steve'"
      ]
     },
     "execution_count": 10,
     "metadata": {},
     "output_type": "execute_result"
    }
   ],
   "source": [
    "students[-1]"
   ]
  },
  {
   "cell_type": "code",
   "execution_count": 11,
   "id": "a9a3208b",
   "metadata": {},
   "outputs": [
    {
     "data": {
      "text/plain": [
       "['John', 'Mary']"
      ]
     },
     "execution_count": 11,
     "metadata": {},
     "output_type": "execute_result"
    }
   ],
   "source": [
    "students[:2]"
   ]
  },
  {
   "cell_type": "markdown",
   "id": "06555cb3",
   "metadata": {},
   "source": [
    "### TUPLES:"
   ]
  },
  {
   "cell_type": "code",
   "execution_count": 12,
   "id": "dfe81ff2",
   "metadata": {},
   "outputs": [],
   "source": [
    "months = (\"Jan\", \"Feb\", \"March\")"
   ]
  },
  {
   "cell_type": "code",
   "execution_count": 13,
   "id": "3ee0a6eb",
   "metadata": {},
   "outputs": [
    {
     "data": {
      "text/plain": [
       "tuple"
      ]
     },
     "execution_count": 13,
     "metadata": {},
     "output_type": "execute_result"
    }
   ],
   "source": [
    "type(months)"
   ]
  },
  {
   "cell_type": "code",
   "execution_count": 14,
   "id": "6af0089e",
   "metadata": {},
   "outputs": [
    {
     "data": {
      "text/plain": [
       "'Jan'"
      ]
     },
     "execution_count": 14,
     "metadata": {},
     "output_type": "execute_result"
    }
   ],
   "source": [
    "months[0]"
   ]
  },
  {
   "cell_type": "code",
   "execution_count": 15,
   "id": "e2d90a81",
   "metadata": {},
   "outputs": [
    {
     "data": {
      "text/plain": [
       "['John', 'Mary', 'Steve']"
      ]
     },
     "execution_count": 15,
     "metadata": {},
     "output_type": "execute_result"
    }
   ],
   "source": [
    "students"
   ]
  },
  {
   "cell_type": "code",
   "execution_count": 16,
   "id": "3ded2d88",
   "metadata": {},
   "outputs": [],
   "source": [
    "students[0] = \"George\""
   ]
  },
  {
   "cell_type": "code",
   "execution_count": 17,
   "id": "880ae63a",
   "metadata": {},
   "outputs": [
    {
     "data": {
      "text/plain": [
       "['George', 'Mary', 'Steve']"
      ]
     },
     "execution_count": 17,
     "metadata": {},
     "output_type": "execute_result"
    }
   ],
   "source": [
    "students"
   ]
  },
  {
   "cell_type": "code",
   "execution_count": 19,
   "id": "75615a5d",
   "metadata": {},
   "outputs": [
    {
     "ename": "TypeError",
     "evalue": "'tuple' object does not support item assignment",
     "output_type": "error",
     "traceback": [
      "\u001b[1;31m---------------------------------------------------------------------------\u001b[0m",
      "\u001b[1;31mTypeError\u001b[0m                                 Traceback (most recent call last)",
      "\u001b[1;32m<ipython-input-19-7251a73b7093>\u001b[0m in \u001b[0;36m<module>\u001b[1;34m\u001b[0m\n\u001b[1;32m----> 1\u001b[1;33m \u001b[0mmonths\u001b[0m\u001b[1;33m[\u001b[0m\u001b[1;36m0\u001b[0m\u001b[1;33m]\u001b[0m \u001b[1;33m=\u001b[0m \u001b[1;34m\"New month\"\u001b[0m \u001b[1;31m# we can't modify objects in tuple.\u001b[0m\u001b[1;33m\u001b[0m\u001b[1;33m\u001b[0m\u001b[0m\n\u001b[0m",
      "\u001b[1;31mTypeError\u001b[0m: 'tuple' object does not support item assignment"
     ]
    }
   ],
   "source": [
    "months[0] = \"New month\" # we can't modify objects in tuple."
   ]
  },
  {
   "cell_type": "code",
   "execution_count": 20,
   "id": "be22d79c",
   "metadata": {},
   "outputs": [],
   "source": [
    "students.append(\"Kate\")"
   ]
  },
  {
   "cell_type": "code",
   "execution_count": 21,
   "id": "a7e3ee79",
   "metadata": {},
   "outputs": [
    {
     "data": {
      "text/plain": [
       "['George', 'Mary', 'Steve', 'Kate']"
      ]
     },
     "execution_count": 21,
     "metadata": {},
     "output_type": "execute_result"
    }
   ],
   "source": [
    "students"
   ]
  },
  {
   "cell_type": "code",
   "execution_count": 22,
   "id": "86400a27",
   "metadata": {},
   "outputs": [],
   "source": [
    "students.insert(0, \"bhagya\")"
   ]
  },
  {
   "cell_type": "code",
   "execution_count": 23,
   "id": "db950df9",
   "metadata": {},
   "outputs": [
    {
     "data": {
      "text/plain": [
       "['bhagya', 'George', 'Mary', 'Steve', 'Kate']"
      ]
     },
     "execution_count": 23,
     "metadata": {},
     "output_type": "execute_result"
    }
   ],
   "source": [
    "students"
   ]
  },
  {
   "cell_type": "code",
   "execution_count": 24,
   "id": "b1bb86c7",
   "metadata": {},
   "outputs": [
    {
     "data": {
      "text/plain": [
       "'Kate'"
      ]
     },
     "execution_count": 24,
     "metadata": {},
     "output_type": "execute_result"
    }
   ],
   "source": [
    "students.pop()"
   ]
  },
  {
   "cell_type": "code",
   "execution_count": 25,
   "id": "283d1c6b",
   "metadata": {},
   "outputs": [
    {
     "data": {
      "text/plain": [
       "['bhagya', 'George', 'Mary', 'Steve']"
      ]
     },
     "execution_count": 25,
     "metadata": {},
     "output_type": "execute_result"
    }
   ],
   "source": [
    "students"
   ]
  },
  {
   "cell_type": "code",
   "execution_count": 26,
   "id": "b40d23f8",
   "metadata": {},
   "outputs": [
    {
     "data": {
      "text/plain": [
       "'George'"
      ]
     },
     "execution_count": 26,
     "metadata": {},
     "output_type": "execute_result"
    }
   ],
   "source": [
    "students.pop(1)"
   ]
  },
  {
   "cell_type": "code",
   "execution_count": 27,
   "id": "34ecdff9",
   "metadata": {},
   "outputs": [
    {
     "data": {
      "text/plain": [
       "['bhagya', 'Mary', 'Steve']"
      ]
     },
     "execution_count": 27,
     "metadata": {},
     "output_type": "execute_result"
    }
   ],
   "source": [
    "students"
   ]
  },
  {
   "cell_type": "code",
   "execution_count": 28,
   "id": "95805dad",
   "metadata": {},
   "outputs": [],
   "source": [
    "students.remove(\"Mary\")"
   ]
  },
  {
   "cell_type": "code",
   "execution_count": 29,
   "id": "9fba7a39",
   "metadata": {},
   "outputs": [
    {
     "data": {
      "text/plain": [
       "['bhagya', 'Steve']"
      ]
     },
     "execution_count": 29,
     "metadata": {},
     "output_type": "execute_result"
    }
   ],
   "source": [
    "students"
   ]
  },
  {
   "cell_type": "code",
   "execution_count": 31,
   "id": "f3c1ec4a",
   "metadata": {},
   "outputs": [
    {
     "data": {
      "text/plain": [
       "['bhagya', 'Steve', 'Paul', 'John']"
      ]
     },
     "execution_count": 31,
     "metadata": {},
     "output_type": "execute_result"
    }
   ],
   "source": [
    "students2 = [\"Paul\", \"John\"]\n",
    "students + students2         #merge 2 lists"
   ]
  },
  {
   "cell_type": "markdown",
   "id": "e9830573",
   "metadata": {},
   "source": [
    "#### Program : crate a program that asks the user for his birthday in the format \n",
    "- \"DD-MM-YYYY\".Then print\n",
    "- \"You were born in [month]\""
   ]
  },
  {
   "cell_type": "code",
   "execution_count": 34,
   "id": "1c995b1b",
   "metadata": {},
   "outputs": [
    {
     "name": "stdout",
     "output_type": "stream",
     "text": [
      "Enter your birthday in DD-MM-YYYY format:22 may 2000\n",
      "You were born in may\n"
     ]
    }
   ],
   "source": [
    "b_day = input(\"Enter your birthday in DD-MM-YYYY format:\").split()\n",
    "print(\"You were born in\", b_day[1])"
   ]
  },
  {
   "cell_type": "code",
   "execution_count": 39,
   "id": "b7bd3e0d",
   "metadata": {},
   "outputs": [
    {
     "name": "stdout",
     "output_type": "stream",
     "text": [
      "Enter your birthday in DD-MM-YYYY format:22-05-2000\n",
      "You were born in May\n"
     ]
    }
   ],
   "source": [
    "months = (\"January\", \"February\", \"march\", \"April\", \"May\", \"June\", \"July\", \"August\", \"September\", \"October\", \"November\", \"December\")\n",
    "b_day = input(\"Enter your birthday in DD-MM-YYYY format:\")\n",
    "\n",
    "index = int(b_day[3:5]) - 1\n",
    "bd_month = months[index]\n",
    "\n",
    "print(\"You were born in\", bd_month)"
   ]
  },
  {
   "cell_type": "markdown",
   "id": "7f8dd615",
   "metadata": {},
   "source": [
    "#### program: Create a program with a predefined list of people. Ask the user for his name, add it to the end of the list and print the updated list."
   ]
  },
  {
   "cell_type": "code",
   "execution_count": 42,
   "id": "88aa1a76",
   "metadata": {},
   "outputs": [
    {
     "name": "stdout",
     "output_type": "stream",
     "text": [
      "Enter your namego\n",
      "Updated list is  ['bhagya', 'Angel', 'go']\n"
     ]
    }
   ],
   "source": [
    "people = [\"bhagya\", \"Angel\"]\n",
    "newUser = input(\"Enter your name\")\n",
    "people.append(newUser)\n",
    "print(\"Updated list is \", people)"
   ]
  },
  {
   "cell_type": "code",
   "execution_count": null,
   "id": "4750cdf2",
   "metadata": {},
   "outputs": [],
   "source": []
  }
 ],
 "metadata": {
  "kernelspec": {
   "display_name": "Python 3",
   "language": "python",
   "name": "python3"
  },
  "language_info": {
   "codemirror_mode": {
    "name": "ipython",
    "version": 3
   },
   "file_extension": ".py",
   "mimetype": "text/x-python",
   "name": "python",
   "nbconvert_exporter": "python",
   "pygments_lexer": "ipython3",
   "version": "3.8.8"
  }
 },
 "nbformat": 4,
 "nbformat_minor": 5
}
