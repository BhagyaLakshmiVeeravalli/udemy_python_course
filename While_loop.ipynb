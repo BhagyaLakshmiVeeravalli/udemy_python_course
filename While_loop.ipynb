{
 "cells": [
  {
   "cell_type": "code",
   "execution_count": 5,
   "id": "5befe6b3",
   "metadata": {},
   "outputs": [
    {
     "name": "stdout",
     "output_type": "stream",
     "text": [
      "<class 'list'>\n",
      "Enter the name of a person:a\n",
      "Enter the name of a person:b\n",
      "Enter the name of a person:c\n",
      "Enter the name of a person:d\n",
      "Enter the name of a person:e\n",
      "['a', 'b', 'c', 'd', 'e']\n"
     ]
    }
   ],
   "source": [
    "x = 0\n",
    "people = []\n",
    "print(type(people))\n",
    "\n",
    "while x < 5 :\n",
    "    person = input(\"Enter the name of a person:\")\n",
    "    people.append(person)\n",
    "    x += 1\n",
    "    \n",
    "print(people)"
   ]
  },
  {
   "cell_type": "code",
   "execution_count": 6,
   "id": "6efd2fbf",
   "metadata": {},
   "outputs": [
    {
     "name": "stdout",
     "output_type": "stream",
     "text": [
      "<class 'list'>\n",
      "Enter the name of a person:a\n",
      "Enter the name of a person:b\n",
      "Enter the name of a person:c\n",
      "Enter the name of a person:d\n",
      "Enter the name of a person:e\n",
      "['a', 'b', 'c', 'd', 'e']\n"
     ]
    }
   ],
   "source": [
    "people = []\n",
    "print(type(people))\n",
    "\n",
    "while len(people) < 5 :\n",
    "    person = input(\"Enter the name of a person:\")\n",
    "    people.append(person)\n",
    "    \n",
    "print(people)"
   ]
  },
  {
   "cell_type": "code",
   "execution_count": 8,
   "id": "c55039c3",
   "metadata": {},
   "outputs": [
    {
     "name": "stdout",
     "output_type": "stream",
     "text": [
      "I'm thinking about a number between zero and ten. Can you guess it?5\n",
      "You guessed it. I was thinking about 5\n"
     ]
    }
   ],
   "source": [
    "number = 5\n",
    "guess = int(input(\"I'm thinking about a number between zero and ten. Can you guess it?\"))\n",
    "\n",
    "while True :\n",
    "    if guess == number :\n",
    "        break\n",
    "    else :\n",
    "        guess = int(input(\"Nope. Try again: \"))\n",
    "\n",
    "print(\"You guessed it. I was thinking about\", number)"
   ]
  },
  {
   "cell_type": "code",
   "execution_count": 9,
   "id": "71534701",
   "metadata": {},
   "outputs": [
    {
     "name": "stdout",
     "output_type": "stream",
     "text": [
      "I'm thinking about a number between zero and ten. Can you guess it?5\n",
      "Nope. Try again: 3\n",
      "You guessed it. I was thinking about 3\n"
     ]
    }
   ],
   "source": [
    "import random\n",
    "number = random.randint(0, 10)\n",
    "guess = int(input(\"I'm thinking about a number between zero and ten. Can you guess it?\"))\n",
    "\n",
    "while True :\n",
    "    if guess == number :\n",
    "        break\n",
    "    else :\n",
    "        guess = int(input(\"Nope. Try again: \"))\n",
    "\n",
    "print(\"You guessed it. I was thinking about\", number)"
   ]
  },
  {
   "cell_type": "code",
   "execution_count": null,
   "id": "999766a5",
   "metadata": {},
   "outputs": [],
   "source": []
  }
 ],
 "metadata": {
  "kernelspec": {
   "display_name": "Python 3",
   "language": "python",
   "name": "python3"
  },
  "language_info": {
   "codemirror_mode": {
    "name": "ipython",
    "version": 3
   },
   "file_extension": ".py",
   "mimetype": "text/x-python",
   "name": "python",
   "nbconvert_exporter": "python",
   "pygments_lexer": "ipython3",
   "version": "3.8.8"
  }
 },
 "nbformat": 4,
 "nbformat_minor": 5
}
