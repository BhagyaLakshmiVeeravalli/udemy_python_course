{
 "cells": [
  {
   "cell_type": "code",
   "execution_count": 1,
   "id": "534d5724",
   "metadata": {},
   "outputs": [
    {
     "name": "stdout",
     "output_type": "stream",
     "text": [
      "The 10 coolest math functions in python\n",
      "How to make HTTP requests in python\n",
      "A tutorial about data types in python\n"
     ]
    }
   ],
   "source": [
    "blog_posts = [\"The 10 coolest math functions in python\", \"How to make HTTP requests in python\", \"A tutorial about data types in python\"]\n",
    "\n",
    "for post in blog_posts :\n",
    "    print(post)"
   ]
  },
  {
   "cell_type": "code",
   "execution_count": 2,
   "id": "cd9f3855",
   "metadata": {},
   "outputs": [
    {
     "name": "stdout",
     "output_type": "stream",
     "text": [
      "The 10 coolest math functions in python\n",
      "How to make HTTP requests in python\n",
      "A tutorial about data types in python\n"
     ]
    }
   ],
   "source": [
    "blog_posts = [\"\", \"The 10 coolest math functions in python\", \"\", \"How to make HTTP requests in python\", \"A tutorial about data types in python\"]\n",
    "\n",
    "for post in blog_posts :\n",
    "    if post == \"\" :\n",
    "        continue\n",
    "    print(post)"
   ]
  },
  {
   "cell_type": "code",
   "execution_count": 3,
   "id": "5cc170a8",
   "metadata": {},
   "outputs": [
    {
     "name": "stdout",
     "output_type": "stream",
     "text": [
      "T\n",
      "h\n",
      "i\n",
      "s\n",
      " \n",
      "i\n",
      "s\n",
      " \n",
      "a\n",
      " \n",
      "s\n",
      "t\n",
      "r\n",
      "i\n",
      "n\n",
      "g\n"
     ]
    }
   ],
   "source": [
    "mystring = \"This is a string\"\n",
    "\n",
    "for char in mystring :\n",
    "    print(char)"
   ]
  },
  {
   "cell_type": "code",
   "execution_count": 4,
   "id": "526708b2",
   "metadata": {},
   "outputs": [
    {
     "name": "stdout",
     "output_type": "stream",
     "text": [
      "0\n",
      "1\n",
      "2\n",
      "3\n",
      "4\n",
      "5\n",
      "6\n",
      "7\n",
      "8\n",
      "9\n"
     ]
    }
   ],
   "source": [
    "for x in range(0, 10) :\n",
    "    print(x)"
   ]
  },
  {
   "cell_type": "code",
   "execution_count": 5,
   "id": "8ad750b8",
   "metadata": {},
   "outputs": [
    {
     "name": "stdout",
     "output_type": "stream",
     "text": [
      "Name : Bhagya\n",
      "Age : 21\n",
      "Gender : Female\n"
     ]
    }
   ],
   "source": [
    "person = {'Name' : 'Bhagya', 'Age' : '21', 'Gender' : 'Female'}\n",
    "\n",
    "for key in person :\n",
    "    print(key, \":\", person[key])"
   ]
  },
  {
   "cell_type": "code",
   "execution_count": 8,
   "id": "6dcaa832",
   "metadata": {},
   "outputs": [
    {
     "name": "stdout",
     "output_type": "stream",
     "text": [
      "Posts about python\n",
      "The 10 coolest math functions in python\n",
      "How to make HTTP requests in python\n",
      "A tutorial about data types in python\n",
      "Posts about Javascript\n",
      "Namespaces in Javascript.\n",
      "New function available in ES6\n"
     ]
    }
   ],
   "source": [
    "blog_posts ={\"python\" :  [\"The 10 coolest math functions in python\", \"How to make HTTP requests in python\", \"A tutorial about data types in python\"], \"Javascript\" : [\"Namespaces in Javascript.\", \"New function available in ES6\"]}\n",
    "\n",
    "for category in blog_posts :\n",
    "    print(\"Posts about\", category)\n",
    "    for post in blog_posts[category] :\n",
    "             print(post)"
   ]
  },
  {
   "cell_type": "markdown",
   "id": "c0f11371",
   "metadata": {},
   "source": [
    "## Excersice: Loops\n",
    "\n",
    "**1. Create a program that asks the user for 8 names of people and store them in a list. When all the names have been given, pick a random one and print it.**"
   ]
  },
  {
   "cell_type": "code",
   "execution_count": 17,
   "id": "c40eda94",
   "metadata": {},
   "outputs": [
    {
     "name": "stdout",
     "output_type": "stream",
     "text": [
      "Enter a name: a\n",
      "Enter a name: d\n",
      "Enter a name: f\n",
      "Enter a name: g\n",
      "Enter a name: \n",
      "Enter a name: h\n",
      "Enter a name: g\n",
      "Enter a name: g\n",
      "d\n"
     ]
    }
   ],
   "source": [
    "import random\n",
    "people = []\n",
    "\n",
    "while len(people) < 8 :\n",
    "    name = str(input(\"Enter a name: \"))\n",
    "    people.append(name)\n",
    "\n",
    "index = random.randint(0, 7)\n",
    "random_person = people[index]\n",
    "print(random_person)"
   ]
  },
  {
   "cell_type": "markdown",
   "id": "7254a460",
   "metadata": {},
   "source": [
    "**2. Create a guess game with the names of the colors. At each round pick a random color from a list and let the user try to guess it. When he does it, ask if he wants to play agian. Keep playing until the user types \"no\".**"
   ]
  },
  {
   "cell_type": "code",
   "execution_count": 25,
   "id": "89c04692",
   "metadata": {},
   "outputs": [
    {
     "name": "stdout",
     "output_type": "stream",
     "text": [
      "I'm thinking about a color, can you guess it: red\n",
      "Nope. Try again:white\n",
      "Nope. Try again:black\n",
      "Nope. Try again:green\n",
      "Nope. Try again:orange\n",
      "Nope. Try again:violet\n",
      "Nope. Try again:pink\n",
      "Nope. Try again:green\n",
      "Nope. Try again:yellow\n",
      "Nope. Try again:blue\n",
      "Nope. Try again:brown\n",
      "You guessed it! I was thinking about brown\n",
      "Let's play again? Type 'no' to quit.no\n",
      "It was fun, thanks for playing.\n"
     ]
    }
   ],
   "source": [
    "import random\n",
    "\n",
    "colors = ['red', 'green', 'yellow', 'blue', 'violet', 'white', 'black', 'orange', 'pink', 'brown']\n",
    "\n",
    "while True :\n",
    "    color = colors[random.randint(0, len(colors) - 1)]\n",
    "    guess = input(\"I'm thinking about a color, can you guess it: \")\n",
    "    \n",
    "    while True :\n",
    "        if color == guess.lower() :\n",
    "            break\n",
    "        else :\n",
    "            guess = input(\"Nope. Try again:\")\n",
    "    print(\"You guessed it! I was thinking about\", color)\n",
    "    \n",
    "    play_again = input(\"Let's play again? Type 'no' to quit.\")\n",
    "    if play_again.lower() == 'no' :\n",
    "        break\n",
    "print(\"It was fun, thanks for playing.\")"
   ]
  },
  {
   "cell_type": "code",
   "execution_count": null,
   "id": "770b69ca",
   "metadata": {},
   "outputs": [],
   "source": []
  }
 ],
 "metadata": {
  "kernelspec": {
   "display_name": "Python 3",
   "language": "python",
   "name": "python3"
  },
  "language_info": {
   "codemirror_mode": {
    "name": "ipython",
    "version": 3
   },
   "file_extension": ".py",
   "mimetype": "text/x-python",
   "name": "python",
   "nbconvert_exporter": "python",
   "pygments_lexer": "ipython3",
   "version": "3.8.8"
  }
 },
 "nbformat": 4,
 "nbformat_minor": 5
}
