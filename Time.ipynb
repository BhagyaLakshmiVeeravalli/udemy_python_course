{
 "cells": [
  {
   "cell_type": "code",
   "execution_count": 1,
   "id": "5dedc5a7",
   "metadata": {},
   "outputs": [],
   "source": [
    "import time as t"
   ]
  },
  {
   "cell_type": "code",
   "execution_count": 2,
   "id": "a97fa396",
   "metadata": {},
   "outputs": [
    {
     "data": {
      "text/plain": [
       "time.struct_time(tm_year=2021, tm_mon=7, tm_mday=13, tm_hour=11, tm_min=41, tm_sec=25, tm_wday=1, tm_yday=194, tm_isdst=0)"
      ]
     },
     "execution_count": 2,
     "metadata": {},
     "output_type": "execute_result"
    }
   ],
   "source": [
    "t.localtime()"
   ]
  },
  {
   "cell_type": "code",
   "execution_count": 3,
   "id": "7a7c5d02",
   "metadata": {},
   "outputs": [
    {
     "name": "stdout",
     "output_type": "stream",
     "text": [
      "Transaction comppleted at 11h44m\n"
     ]
    }
   ],
   "source": [
    "time_now = t.localtime()\n",
    "print('Transaction comppleted at', str(time_now.tm_hour) + 'h' + str(time_now.tm_min) + 'm')"
   ]
  },
  {
   "cell_type": "code",
   "execution_count": 7,
   "id": "ccb3fd82",
   "metadata": {},
   "outputs": [
    {
     "data": {
      "text/plain": [
       "1626156925.2010443"
      ]
     },
     "execution_count": 7,
     "metadata": {},
     "output_type": "execute_result"
    }
   ],
   "source": [
    "t.time()"
   ]
  },
  {
   "cell_type": "code",
   "execution_count": 8,
   "id": "3b994bcd",
   "metadata": {},
   "outputs": [
    {
     "data": {
      "text/plain": [
       "time.struct_time(tm_year=2021, tm_mon=7, tm_mday=20, tm_hour=11, tm_min=48, tm_sec=0, tm_wday=1, tm_yday=201, tm_isdst=0)"
      ]
     },
     "execution_count": 8,
     "metadata": {},
     "output_type": "execute_result"
    }
   ],
   "source": [
    "time_now = t.time()\n",
    "delivery_time = time_now + (86400 * 7)\n",
    "t.localtime(delivery_time)"
   ]
  },
  {
   "cell_type": "code",
   "execution_count": 9,
   "id": "9fbb4cee",
   "metadata": {},
   "outputs": [],
   "source": [
    "t.sleep(5)"
   ]
  },
  {
   "cell_type": "code",
   "execution_count": null,
   "id": "b324bea4",
   "metadata": {},
   "outputs": [],
   "source": []
  }
 ],
 "metadata": {
  "kernelspec": {
   "display_name": "Python 3",
   "language": "python",
   "name": "python3"
  },
  "language_info": {
   "codemirror_mode": {
    "name": "ipython",
    "version": 3
   },
   "file_extension": ".py",
   "mimetype": "text/x-python",
   "name": "python",
   "nbconvert_exporter": "python",
   "pygments_lexer": "ipython3",
   "version": "3.8.8"
  }
 },
 "nbformat": 4,
 "nbformat_minor": 5
}
