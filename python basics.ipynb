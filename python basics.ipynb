{
 "cells": [
  {
   "cell_type": "markdown",
   "id": "6bbf1c3f",
   "metadata": {},
   "source": [
    "## PYTHON BASICS:\n",
    "\n",
    "### 3.Statements :\n",
    "- case sensitive.\n",
    "- sensitive to indentation."
   ]
  },
  {
   "cell_type": "code",
   "execution_count": 1,
   "id": "864dc26b",
   "metadata": {},
   "outputs": [
    {
     "name": "stdout",
     "output_type": "stream",
     "text": [
      "Hello world.\n"
     ]
    }
   ],
   "source": [
    "print(\"Hello world.\")"
   ]
  },
  {
   "cell_type": "markdown",
   "id": "5ecc1350",
   "metadata": {},
   "source": [
    "#### p.Average of two numbers:\n"
   ]
  },
  {
   "cell_type": "code",
   "execution_count": 4,
   "id": "cbd72722",
   "metadata": {},
   "outputs": [
    {
     "name": "stdout",
     "output_type": "stream",
     "text": [
      "This program calculates the average of 2 numbers.\n",
      "The numbers are 4 and 8.\n",
      "The average is: 6.0\n"
     ]
    }
   ],
   "source": [
    "print(\"This program calculates the average of 2 numbers.\")\n",
    "print(\"The numbers are 4 and 8.\")\n",
    "print(\"The average is:\", (4 + 8)/2)"
   ]
  },
  {
   "cell_type": "markdown",
   "id": "b710df16",
   "metadata": {},
   "source": [
    "### 4.Variables: \n",
    "#### RULES:\n",
    "- variable names can only contain letters, numbers, underscores.\n",
    "    - special characters like $, \", ', ?, /, -, @, #, ! are not allowed.\n",
    "- variable names can't start with numbers.\n",
    "    - \"var2\" is a valid name.\n",
    "    - \"2var\" is not a valid name.\n",
    "- variable names are case sensitive.\n",
    "    - \"age\" != \"Age\"\n",
    "- Reserved words can't be used.\n",
    "    - \"print\" is an invalid variable name.\n",
    "    - but it is not recommanded.\n",
    "- values of the variable is dynamic.(they can change)."
   ]
  },
  {
   "cell_type": "markdown",
   "id": "6b18feaf",
   "metadata": {},
   "source": [
    "#### p. Average of 2 numbers:"
   ]
  },
  {
   "cell_type": "code",
   "execution_count": 5,
   "id": "fc9cf9e1",
   "metadata": {},
   "outputs": [
    {
     "name": "stdout",
     "output_type": "stream",
     "text": [
      "This program calculates the average of 2 numbers.\n",
      "The numbers are 4 and 8\n",
      "The average is: 6.0\n"
     ]
    }
   ],
   "source": [
    "print(\"This program calculates the average of 2 numbers.\")\n",
    "number1 = 4\n",
    "number2 = 8\n",
    "print(\"The numbers are\", number1, \"and\", number2)\n",
    "print(\"The average is:\", (number1 + number2)/2)"
   ]
  },
  {
   "cell_type": "markdown",
   "id": "e1718f3c",
   "metadata": {},
   "source": [
    "### 5. The input function:"
   ]
  },
  {
   "cell_type": "code",
   "execution_count": 6,
   "id": "0de39e57",
   "metadata": {},
   "outputs": [
    {
     "name": "stdout",
     "output_type": "stream",
     "text": [
      "Enter a number:4\n"
     ]
    }
   ],
   "source": [
    "num1 = input(\"Enter a number:\")"
   ]
  },
  {
   "cell_type": "markdown",
   "id": "1206cd94",
   "metadata": {},
   "source": [
    "#### p. Average of 2 numbers:"
   ]
  },
  {
   "cell_type": "code",
   "execution_count": 7,
   "id": "db89df01",
   "metadata": {},
   "outputs": [
    {
     "name": "stdout",
     "output_type": "stream",
     "text": [
      "This program calculates the average of 2 numbers.\n",
      "Enter first number:4\n",
      "Enter second number:8\n",
      "The numbers are 4.0 and 8.0\n",
      "The average is: 6.0\n"
     ]
    }
   ],
   "source": [
    "print(\"This program calculates the average of 2 numbers.\")\n",
    "number1 = float(input(\"Enter first number:\"))\n",
    "number2 = float(input(\"Enter second number:\"))\n",
    "print(\"The numbers are\", number1, \"and\", number2)\n",
    "print(\"The average is:\", (number1 + number2)/2)"
   ]
  },
  {
   "cell_type": "markdown",
   "id": "0db15f7c",
   "metadata": {},
   "source": [
    "#### p. km to miles converter.\n",
    "- 1 mile = 1.609344 km."
   ]
  },
  {
   "cell_type": "code",
   "execution_count": 8,
   "id": "365ca99c",
   "metadata": {},
   "outputs": [
    {
     "name": "stdout",
     "output_type": "stream",
     "text": [
      "Enter kilometers:100\n",
      "100.0 km = 62.1371 miles\n"
     ]
    }
   ],
   "source": [
    "km = float(input(\"Enter kilometers:\"))\n",
    "miles = km / 1.609344\n",
    "print(km, \"km =\", round(miles, 4), \"miles\")"
   ]
  },
  {
   "cell_type": "code",
   "execution_count": null,
   "id": "4c4c8ce2",
   "metadata": {},
   "outputs": [],
   "source": []
  }
 ],
 "metadata": {
  "kernelspec": {
   "display_name": "Python 3",
   "language": "python",
   "name": "python3"
  },
  "language_info": {
   "codemirror_mode": {
    "name": "ipython",
    "version": 3
   },
   "file_extension": ".py",
   "mimetype": "text/x-python",
   "name": "python",
   "nbconvert_exporter": "python",
   "pygments_lexer": "ipython3",
   "version": "3.8.8"
  }
 },
 "nbformat": 4,
 "nbformat_minor": 5
}
