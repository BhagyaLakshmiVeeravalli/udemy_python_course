{
 "cells": [
  {
   "cell_type": "markdown",
   "id": "a779f20d",
   "metadata": {},
   "source": [
    "- **JSON --> JavaScript Object Notation**"
   ]
  },
  {
   "cell_type": "code",
   "execution_count": 1,
   "id": "13f43a3b",
   "metadata": {},
   "outputs": [],
   "source": [
    "import requests\n",
    "\n",
    "r = requests.get(\"https://opentdb.com/api.php?amount=1&category=12&difficulty=easy&type=multiple\")"
   ]
  },
  {
   "cell_type": "code",
   "execution_count": 2,
   "id": "b10d07be",
   "metadata": {},
   "outputs": [
    {
     "data": {
      "text/plain": [
       "200"
      ]
     },
     "execution_count": 2,
     "metadata": {},
     "output_type": "execute_result"
    }
   ],
   "source": [
    "r.status_code"
   ]
  },
  {
   "cell_type": "code",
   "execution_count": 3,
   "id": "ccaa05f1",
   "metadata": {},
   "outputs": [
    {
     "data": {
      "text/plain": [
       "'{\"response_code\":0,\"results\":[{\"category\":\"Entertainment: Music\",\"type\":\"multiple\",\"difficulty\":\"easy\",\"question\":\"Who is the lead singer of the British pop rock band Coldplay?\",\"correct_answer\":\"Chris Martin\",\"incorrect_answers\":[\"Jonny Buckland\",\"Guy Berryman\",\"Will Champion\"]}]}'"
      ]
     },
     "execution_count": 3,
     "metadata": {},
     "output_type": "execute_result"
    }
   ],
   "source": [
    "r.text"
   ]
  },
  {
   "cell_type": "code",
   "execution_count": 4,
   "id": "533254e8",
   "metadata": {},
   "outputs": [
    {
     "data": {
      "text/plain": [
       "str"
      ]
     },
     "execution_count": 4,
     "metadata": {},
     "output_type": "execute_result"
    }
   ],
   "source": [
    "type(r.text)"
   ]
  },
  {
   "cell_type": "code",
   "execution_count": 7,
   "id": "68ea4ee8",
   "metadata": {},
   "outputs": [
    {
     "data": {
      "text/plain": [
       "{'response_code': 0,\n",
       " 'results': [{'category': 'Entertainment: Music',\n",
       "   'type': 'multiple',\n",
       "   'difficulty': 'easy',\n",
       "   'question': 'Who is the lead singer of the British pop rock band Coldplay?',\n",
       "   'correct_answer': 'Chris Martin',\n",
       "   'incorrect_answers': ['Jonny Buckland', 'Guy Berryman', 'Will Champion']}]}"
      ]
     },
     "execution_count": 7,
     "metadata": {},
     "output_type": "execute_result"
    }
   ],
   "source": [
    "import json\n",
    "\n",
    "question = json.loads(r.text)\n",
    "question"
   ]
  },
  {
   "cell_type": "code",
   "execution_count": 8,
   "id": "f11db50f",
   "metadata": {},
   "outputs": [
    {
     "data": {
      "text/plain": [
       "dict"
      ]
     },
     "execution_count": 8,
     "metadata": {},
     "output_type": "execute_result"
    }
   ],
   "source": [
    "type(question)"
   ]
  },
  {
   "cell_type": "code",
   "execution_count": 9,
   "id": "b29624c2",
   "metadata": {},
   "outputs": [
    {
     "name": "stdout",
     "output_type": "stream",
     "text": [
      "{'response_code': 0,\n",
      " 'results': [{'category': 'Entertainment: Music',\n",
      "              'correct_answer': 'Chris Martin',\n",
      "              'difficulty': 'easy',\n",
      "              'incorrect_answers': ['Jonny Buckland',\n",
      "                                    'Guy Berryman',\n",
      "                                    'Will Champion'],\n",
      "              'question': 'Who is the lead singer of the British pop rock band '\n",
      "                          'Coldplay?',\n",
      "              'type': 'multiple'}]}\n"
     ]
    }
   ],
   "source": [
    "import pprint\n",
    "\n",
    "pprint.pprint(question)"
   ]
  },
  {
   "cell_type": "code",
   "execution_count": 10,
   "id": "c3222540",
   "metadata": {},
   "outputs": [
    {
     "data": {
      "text/plain": [
       "'Entertainment: Music'"
      ]
     },
     "execution_count": 10,
     "metadata": {},
     "output_type": "execute_result"
    }
   ],
   "source": [
    "question['results'][0]['category']"
   ]
  },
  {
   "cell_type": "code",
   "execution_count": 11,
   "id": "9a4cfb8a",
   "metadata": {},
   "outputs": [
    {
     "data": {
      "text/plain": [
       "['Jonny Buckland', 'Guy Berryman', 'Will Champion']"
      ]
     },
     "execution_count": 11,
     "metadata": {},
     "output_type": "execute_result"
    }
   ],
   "source": [
    "question['results'][0]['incorrect_answers']"
   ]
  },
  {
   "cell_type": "markdown",
   "id": "df6549d1",
   "metadata": {},
   "source": [
    "### Converting python dictionary to json"
   ]
  },
  {
   "cell_type": "code",
   "execution_count": 13,
   "id": "182e2415",
   "metadata": {},
   "outputs": [],
   "source": [
    "person = {'Name' : 'Bhagya', 'Age' : 30}"
   ]
  },
  {
   "cell_type": "code",
   "execution_count": 14,
   "id": "71919153",
   "metadata": {},
   "outputs": [],
   "source": [
    "person_json = json.dumps(person)"
   ]
  },
  {
   "cell_type": "code",
   "execution_count": 15,
   "id": "fa4b19ce",
   "metadata": {},
   "outputs": [
    {
     "data": {
      "text/plain": [
       "'{\"Name\": \"Bhagya\", \"Age\": 30}'"
      ]
     },
     "execution_count": 15,
     "metadata": {},
     "output_type": "execute_result"
    }
   ],
   "source": [
    "person_json"
   ]
  },
  {
   "cell_type": "code",
   "execution_count": 16,
   "id": "fee9145e",
   "metadata": {},
   "outputs": [
    {
     "data": {
      "text/plain": [
       "str"
      ]
     },
     "execution_count": 16,
     "metadata": {},
     "output_type": "execute_result"
    }
   ],
   "source": [
    "type(person_json)"
   ]
  },
  {
   "cell_type": "code",
   "execution_count": null,
   "id": "6f36290a",
   "metadata": {},
   "outputs": [],
   "source": []
  }
 ],
 "metadata": {
  "kernelspec": {
   "display_name": "Python 3",
   "language": "python",
   "name": "python3"
  },
  "language_info": {
   "codemirror_mode": {
    "name": "ipython",
    "version": 3
   },
   "file_extension": ".py",
   "mimetype": "text/x-python",
   "name": "python",
   "nbconvert_exporter": "python",
   "pygments_lexer": "ipython3",
   "version": "3.8.8"
  }
 },
 "nbformat": 4,
 "nbformat_minor": 5
}
