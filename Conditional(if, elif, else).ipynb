{
 "cells": [
  {
   "cell_type": "code",
   "execution_count": 3,
   "id": "232a5050",
   "metadata": {},
   "outputs": [
    {
     "name": "stdout",
     "output_type": "stream",
     "text": [
      "Enter the grade of first test:8\n",
      "Enter the grade of second test:8\n",
      "Enter the number of absences:10\n",
      "Enter the total number of classes:20\n",
      "The student has failed.\n"
     ]
    }
   ],
   "source": [
    "grade1 = float(input(\"Enter the grade of first test:\"))\n",
    "grade2 = float(input(\"Enter the grade of second test:\"))\n",
    "absences = int(input(\"Enter the number of absences:\"))\n",
    "total_classes = int(input(\"Enter the total number of classes:\"))\n",
    "\n",
    "avg_grade = (grade1 + grade2) / 2\n",
    "attendance = (total_classes - absences) / total_classes\n",
    "\n",
    "if(avg_grade >= 6) :\n",
    "    if(attendance >= 0.8) :\n",
    "        print(\"The student has been approved.\")\n",
    "    else :\n",
    "        print(\"The student has failed.\")\n",
    "else :\n",
    "    print(\"The student has failed.\")"
   ]
  },
  {
   "cell_type": "code",
   "execution_count": 7,
   "id": "0595ea97",
   "metadata": {},
   "outputs": [
    {
     "name": "stdout",
     "output_type": "stream",
     "text": [
      "Enter the grade of first test:7\n",
      "Enter the grade of second test:7\n",
      "Enter the number of absences:10\n",
      "Enter the total number of classes:20\n",
      "Average grade: 7.0\n",
      "Attendance rate: 50.0%\n",
      "The student has failed due to an attendance rate lower than 80%.\n"
     ]
    }
   ],
   "source": [
    "grade1 = float(input(\"Enter the grade of first test:\"))\n",
    "grade2 = float(input(\"Enter the grade of second test:\"))\n",
    "absences = int(input(\"Enter the number of absences:\"))\n",
    "total_classes = int(input(\"Enter the total number of classes:\"))\n",
    "\n",
    "avg_grade = (grade1 + grade2) / 2\n",
    "attendance = (total_classes - absences) / total_classes\n",
    "\n",
    "print(\"Average grade:\", round(avg_grade, 2))\n",
    "print(\"Attendance rate:\", str(round((attendance * 100),2))+'%')\n",
    "\n",
    "if(avg_grade >= 6) :\n",
    "    if(attendance >= 0.8) :\n",
    "        print(\"The student has been approved.\")\n",
    "    else :\n",
    "        print(\"The student has failed due to an attendance rate lower than 80%.\")\n",
    "elif(attendance >= 0.8) :\n",
    "    print(\"The student has failed due to an average grade lower than 6.0.\")\n",
    "else :\n",
    "    print(\"The student has failed due to an average grade lower than 6.0 and an attendance rate lower than 80%.\")"
   ]
  },
  {
   "cell_type": "code",
   "execution_count": null,
   "id": "53eb2f97",
   "metadata": {},
   "outputs": [],
   "source": []
  }
 ],
 "metadata": {
  "kernelspec": {
   "display_name": "Python 3",
   "language": "python",
   "name": "python3"
  },
  "language_info": {
   "codemirror_mode": {
    "name": "ipython",
    "version": 3
   },
   "file_extension": ".py",
   "mimetype": "text/x-python",
   "name": "python",
   "nbconvert_exporter": "python",
   "pygments_lexer": "ipython3",
   "version": "3.8.8"
  }
 },
 "nbformat": 4,
 "nbformat_minor": 5
}
