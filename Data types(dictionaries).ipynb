{
 "cells": [
  {
   "cell_type": "markdown",
   "id": "d3235024",
   "metadata": {},
   "source": [
    "## DATA TYPES - Dictionaries:"
   ]
  },
  {
   "cell_type": "code",
   "execution_count": 1,
   "id": "24f76880",
   "metadata": {},
   "outputs": [],
   "source": [
    "person = [\"John\", \"Blue\", \"1980\", \"Canada\"]"
   ]
  },
  {
   "cell_type": "code",
   "execution_count": 1,
   "id": "01e29032",
   "metadata": {},
   "outputs": [],
   "source": [
    "person = {\"first_name\" : \"John\", \"Last_name\" : \"Blue\", \"birh_year\" : \"1980\", \"country_of_birth\" : \"Canada\"}"
   ]
  },
  {
   "cell_type": "code",
   "execution_count": 2,
   "id": "44aba5a9",
   "metadata": {},
   "outputs": [
    {
     "data": {
      "text/plain": [
       "dict"
      ]
     },
     "execution_count": 2,
     "metadata": {},
     "output_type": "execute_result"
    }
   ],
   "source": [
    "type(person)"
   ]
  },
  {
   "cell_type": "code",
   "execution_count": 3,
   "id": "8c0ca949",
   "metadata": {},
   "outputs": [
    {
     "data": {
      "text/plain": [
       "'John'"
      ]
     },
     "execution_count": 3,
     "metadata": {},
     "output_type": "execute_result"
    }
   ],
   "source": [
    "person[\"first_name\"]"
   ]
  },
  {
   "cell_type": "code",
   "execution_count": 4,
   "id": "7b01d906",
   "metadata": {},
   "outputs": [],
   "source": [
    "person[\"birh_year\"] = 1979"
   ]
  },
  {
   "cell_type": "code",
   "execution_count": 5,
   "id": "e0103e99",
   "metadata": {},
   "outputs": [
    {
     "data": {
      "text/plain": [
       "{'first_name': 'John',\n",
       " 'Last_name': 'Blue',\n",
       " 'birh_year': 1979,\n",
       " 'country_of_birth': 'Canada'}"
      ]
     },
     "execution_count": 5,
     "metadata": {},
     "output_type": "execute_result"
    }
   ],
   "source": [
    "person"
   ]
  },
  {
   "cell_type": "code",
   "execution_count": 6,
   "id": "1283cf96",
   "metadata": {},
   "outputs": [
    {
     "data": {
      "text/plain": [
       "{'first_name': 'John',\n",
       " 'Last_name': 'Blue',\n",
       " 'birh_year': 1979,\n",
       " 'country_of_birth': 'Canada',\n",
       " 'marital_status': 'married'}"
      ]
     },
     "execution_count": 6,
     "metadata": {},
     "output_type": "execute_result"
    }
   ],
   "source": [
    "person[\"marital_status\"] = \"married\"\n",
    "person"
   ]
  },
  {
   "cell_type": "code",
   "execution_count": 7,
   "id": "09d59a74",
   "metadata": {},
   "outputs": [],
   "source": [
    "person[\"children\"] = [\"Nathalie\", \"Ethan\"]"
   ]
  },
  {
   "cell_type": "code",
   "execution_count": 8,
   "id": "22f27643",
   "metadata": {},
   "outputs": [
    {
     "data": {
      "text/plain": [
       "{'first_name': 'John',\n",
       " 'Last_name': 'Blue',\n",
       " 'birh_year': 1979,\n",
       " 'country_of_birth': 'Canada',\n",
       " 'marital_status': 'married',\n",
       " 'children': ['Nathalie', 'Ethan']}"
      ]
     },
     "execution_count": 8,
     "metadata": {},
     "output_type": "execute_result"
    }
   ],
   "source": [
    "person"
   ]
  },
  {
   "cell_type": "code",
   "execution_count": 9,
   "id": "d29306bb",
   "metadata": {},
   "outputs": [
    {
     "ename": "KeyError",
     "evalue": "'age'",
     "output_type": "error",
     "traceback": [
      "\u001b[1;31m---------------------------------------------------------------------------\u001b[0m",
      "\u001b[1;31mKeyError\u001b[0m                                  Traceback (most recent call last)",
      "\u001b[1;32m<ipython-input-9-e6a5f1c5b50f>\u001b[0m in \u001b[0;36m<module>\u001b[1;34m\u001b[0m\n\u001b[1;32m----> 1\u001b[1;33m \u001b[0mperson\u001b[0m\u001b[1;33m[\u001b[0m\u001b[1;34m\"age\"\u001b[0m\u001b[1;33m]\u001b[0m\u001b[1;33m\u001b[0m\u001b[1;33m\u001b[0m\u001b[0m\n\u001b[0m",
      "\u001b[1;31mKeyError\u001b[0m: 'age'"
     ]
    }
   ],
   "source": [
    "person[\"age\"]"
   ]
  },
  {
   "cell_type": "code",
   "execution_count": 11,
   "id": "d9561e9d",
   "metadata": {},
   "outputs": [
    {
     "name": "stdout",
     "output_type": "stream",
     "text": [
      "invalid property\n"
     ]
    }
   ],
   "source": [
    "print(person.get(\"age\", \"invalid property\"))"
   ]
  },
  {
   "cell_type": "code",
   "execution_count": 12,
   "id": "53bd20bb",
   "metadata": {},
   "outputs": [
    {
     "data": {
      "text/plain": [
       "['Nathalie', 'Ethan']"
      ]
     },
     "execution_count": 12,
     "metadata": {},
     "output_type": "execute_result"
    }
   ],
   "source": [
    "person.get(\"children\", \"invalid property\")"
   ]
  },
  {
   "cell_type": "code",
   "execution_count": 14,
   "id": "8a01c552",
   "metadata": {},
   "outputs": [],
   "source": [
    "key = \"first_name\""
   ]
  },
  {
   "cell_type": "code",
   "execution_count": 15,
   "id": "f09fd641",
   "metadata": {},
   "outputs": [
    {
     "data": {
      "text/plain": [
       "'John'"
      ]
     },
     "execution_count": 15,
     "metadata": {},
     "output_type": "execute_result"
    }
   ],
   "source": [
    "person[key]"
   ]
  },
  {
   "cell_type": "code",
   "execution_count": 16,
   "id": "cdad59f1",
   "metadata": {},
   "outputs": [],
   "source": [
    "person.clear()"
   ]
  },
  {
   "cell_type": "code",
   "execution_count": 17,
   "id": "466b5c43",
   "metadata": {},
   "outputs": [
    {
     "data": {
      "text/plain": [
       "{}"
      ]
     },
     "execution_count": 17,
     "metadata": {},
     "output_type": "execute_result"
    }
   ],
   "source": [
    "person"
   ]
  },
  {
   "cell_type": "markdown",
   "id": "349e1b3f",
   "metadata": {},
   "source": [
    "### Exercise : \n",
    "- Create a program with a predefined dictionary for a person. Include the following information: name, gender, age, address and phone.\n",
    "    - Ask the user what information he wants to know about the person (example: \"name\"), then print the value associated to that key or display a message in case the key is not found."
   ]
  },
  {
   "cell_type": "code",
   "execution_count": 29,
   "id": "67a0d994",
   "metadata": {},
   "outputs": [
    {
     "name": "stdout",
     "output_type": "stream",
     "text": [
      "what information do you want to know about the person ? : Name\n",
      "Bhagya\n"
     ]
    }
   ],
   "source": [
    "person = {\"name\" : \"Bhagya\", \"gender\" : \"female\", \"age\" : \"21\", \"address\" : \"Veeravasaram\", \"phone\" : \"9381498248\"}\n",
    "key = input(\"what information do you want to know about the person ? : \").lower()\n",
    "result = person.get(key, \"That information is not available\")\n",
    "print(result)"
   ]
  },
  {
   "cell_type": "code",
   "execution_count": null,
   "id": "d6dc841a",
   "metadata": {},
   "outputs": [],
   "source": []
  }
 ],
 "metadata": {
  "kernelspec": {
   "display_name": "Python 3",
   "language": "python",
   "name": "python3"
  },
  "language_info": {
   "codemirror_mode": {
    "name": "ipython",
    "version": 3
   },
   "file_extension": ".py",
   "mimetype": "text/x-python",
   "name": "python",
   "nbconvert_exporter": "python",
   "pygments_lexer": "ipython3",
   "version": "3.8.8"
  }
 },
 "nbformat": 4,
 "nbformat_minor": 5
}
