{
 "cells": [
  {
   "cell_type": "markdown",
   "id": "b8847ec7",
   "metadata": {},
   "source": [
    "### STRINGS:\n",
    "- sequence of characters."
   ]
  },
  {
   "cell_type": "code",
   "execution_count": 3,
   "id": "954dc7d5",
   "metadata": {},
   "outputs": [],
   "source": [
    "str1 = \"some text\"\n",
    "str1 = \"33\"\n"
   ]
  },
  {
   "cell_type": "code",
   "execution_count": 8,
   "id": "58aeb2fb",
   "metadata": {},
   "outputs": [
    {
     "name": "stdout",
     "output_type": "stream",
     "text": [
      "she said \"meet me at 5\"\n"
     ]
    }
   ],
   "source": [
    "str1 = 'she said \"meet me at 5\"'\n",
    "print(str1)"
   ]
  },
  {
   "cell_type": "code",
   "execution_count": 9,
   "id": "543750dc",
   "metadata": {},
   "outputs": [
    {
     "data": {
      "text/plain": [
       "'s'"
      ]
     },
     "execution_count": 9,
     "metadata": {},
     "output_type": "execute_result"
    }
   ],
   "source": [
    "str1[0]"
   ]
  },
  {
   "cell_type": "code",
   "execution_count": 10,
   "id": "1ae0941b",
   "metadata": {},
   "outputs": [
    {
     "data": {
      "text/plain": [
       "'\"'"
      ]
     },
     "execution_count": 10,
     "metadata": {},
     "output_type": "execute_result"
    }
   ],
   "source": [
    "str1[-1]"
   ]
  },
  {
   "cell_type": "code",
   "execution_count": 12,
   "id": "3c403982",
   "metadata": {},
   "outputs": [
    {
     "data": {
      "text/plain": [
       "23"
      ]
     },
     "execution_count": 12,
     "metadata": {},
     "output_type": "execute_result"
    }
   ],
   "source": [
    "len(str1)"
   ]
  },
  {
   "cell_type": "code",
   "execution_count": 13,
   "id": "36c75593",
   "metadata": {},
   "outputs": [
    {
     "data": {
      "text/plain": [
       "'\"'"
      ]
     },
     "execution_count": 13,
     "metadata": {},
     "output_type": "execute_result"
    }
   ],
   "source": [
    "str1[len(str1) - 1]"
   ]
  },
  {
   "cell_type": "code",
   "execution_count": 14,
   "id": "992e6ccf",
   "metadata": {},
   "outputs": [],
   "source": [
    "str2 = \"PT10009894\""
   ]
  },
  {
   "cell_type": "code",
   "execution_count": 15,
   "id": "f7f6c1e1",
   "metadata": {},
   "outputs": [
    {
     "data": {
      "text/plain": [
       "'PT'"
      ]
     },
     "execution_count": 15,
     "metadata": {},
     "output_type": "execute_result"
    }
   ],
   "source": [
    "str2[0 : 2]"
   ]
  },
  {
   "cell_type": "code",
   "execution_count": 16,
   "id": "c9a7e4c4",
   "metadata": {},
   "outputs": [],
   "source": [
    "str3 = \"1000989894PT\""
   ]
  },
  {
   "cell_type": "code",
   "execution_count": 17,
   "id": "f6b8828f",
   "metadata": {},
   "outputs": [
    {
     "data": {
      "text/plain": [
       "'P'"
      ]
     },
     "execution_count": 17,
     "metadata": {},
     "output_type": "execute_result"
    }
   ],
   "source": [
    "str3[-2 : -1]"
   ]
  },
  {
   "cell_type": "code",
   "execution_count": 22,
   "id": "b1090df3",
   "metadata": {},
   "outputs": [
    {
     "data": {
      "text/plain": [
       "'P'"
      ]
     },
     "execution_count": 22,
     "metadata": {},
     "output_type": "execute_result"
    }
   ],
   "source": [
    "str3[-2]"
   ]
  },
  {
   "cell_type": "code",
   "execution_count": 23,
   "id": "ec1b95fe",
   "metadata": {},
   "outputs": [
    {
     "data": {
      "text/plain": [
       "'100'"
      ]
     },
     "execution_count": 23,
     "metadata": {},
     "output_type": "execute_result"
    }
   ],
   "source": [
    "str3[: 3]"
   ]
  },
  {
   "cell_type": "code",
   "execution_count": 24,
   "id": "7242ebd4",
   "metadata": {},
   "outputs": [
    {
     "data": {
      "text/plain": [
       "'Hello world.'"
      ]
     },
     "execution_count": 24,
     "metadata": {},
     "output_type": "execute_result"
    }
   ],
   "source": [
    "\"Hello\"+\" \"+\"world.\""
   ]
  },
  {
   "cell_type": "code",
   "execution_count": 25,
   "id": "627ffcec",
   "metadata": {},
   "outputs": [
    {
     "ename": "TypeError",
     "evalue": "can only concatenate str (not \"int\") to str",
     "output_type": "error",
     "traceback": [
      "\u001b[1;31m---------------------------------------------------------------------------\u001b[0m",
      "\u001b[1;31mTypeError\u001b[0m                                 Traceback (most recent call last)",
      "\u001b[1;32m<ipython-input-25-5fef88e62102>\u001b[0m in \u001b[0;36m<module>\u001b[1;34m\u001b[0m\n\u001b[1;32m----> 1\u001b[1;33m \u001b[1;34m\"Hello\"\u001b[0m\u001b[1;33m+\u001b[0m \u001b[1;36m1234\u001b[0m\u001b[1;33m\u001b[0m\u001b[1;33m\u001b[0m\u001b[0m\n\u001b[0m",
      "\u001b[1;31mTypeError\u001b[0m: can only concatenate str (not \"int\") to str"
     ]
    }
   ],
   "source": [
    "\"Hello\"+ 1234"
   ]
  },
  {
   "cell_type": "code",
   "execution_count": 29,
   "id": "b52b78ad",
   "metadata": {},
   "outputs": [
    {
     "data": {
      "text/plain": [
       "'user22'"
      ]
     },
     "execution_count": 29,
     "metadata": {},
     "output_type": "execute_result"
    }
   ],
   "source": [
    "\"user\" + '22'"
   ]
  },
  {
   "cell_type": "markdown",
   "id": "aa455f46",
   "metadata": {},
   "source": [
    "#### p. create a program that asks the user for his first name, his middle name and his last name. Then print: \"Your initial is ____\"."
   ]
  },
  {
   "cell_type": "code",
   "execution_count": 32,
   "id": "d07a6f52",
   "metadata": {},
   "outputs": [
    {
     "name": "stdout",
     "output_type": "stream",
     "text": [
      "Enter your first name:Bhagya Lakshmi Veeravalli\n",
      "Enter your middle name:Lakshmi\n",
      "Enter your last name:Veeravalli\n",
      "Your intials are: B L V\n"
     ]
    }
   ],
   "source": [
    "f_name = input(\"Enter your first name:\")\n",
    "m_name = input(\"Enter your middle name:\")\n",
    "l_name = input(\"Enter your last name:\")\n",
    "print(\"Your intials are:\", f_name[0], m_name[0], l_name[0])"
   ]
  },
  {
   "cell_type": "markdown",
   "id": "5f6f47aa",
   "metadata": {},
   "source": [
    "#### Program: Let's say your company has a product with this lot number: \"037-00901-00027\".\n",
    "- 037 is the country code.\n",
    "- 00901 is the product code.\n",
    "- 00027 is the batch number.\n",
    "- print : \n",
    "    - country code:\n",
    "    - Product code:\n",
    "    - Batch code:"
   ]
  },
  {
   "cell_type": "code",
   "execution_count": 37,
   "id": "0dbc1949",
   "metadata": {},
   "outputs": [
    {
     "name": "stdout",
     "output_type": "stream",
     "text": [
      "Country code: 037\n",
      "Product code: 00901\n",
      "Batch code: 00027\n"
     ]
    }
   ],
   "source": [
    "lotNum = \"037-00901-00027\"\n",
    "print(\"Country code:\", lotNum[:3])\n",
    "print(\"Product code:\", lotNum[4 : 9])\n",
    "print(\"Batch code:\", lotNum[-5:])"
   ]
  },
  {
   "cell_type": "code",
   "execution_count": null,
   "id": "cdc20582",
   "metadata": {},
   "outputs": [],
   "source": []
  }
 ],
 "metadata": {
  "kernelspec": {
   "display_name": "Python 3",
   "language": "python",
   "name": "python3"
  },
  "language_info": {
   "codemirror_mode": {
    "name": "ipython",
    "version": 3
   },
   "file_extension": ".py",
   "mimetype": "text/x-python",
   "name": "python",
   "nbconvert_exporter": "python",
   "pygments_lexer": "ipython3",
   "version": "3.8.8"
  }
 },
 "nbformat": 4,
 "nbformat_minor": 5
}
