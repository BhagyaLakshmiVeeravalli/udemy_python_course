{
 "cells": [
  {
   "cell_type": "code",
   "execution_count": 1,
   "id": "b5425572",
   "metadata": {},
   "outputs": [
    {
     "name": "stdout",
     "output_type": "stream",
     "text": [
      "['sales', 'customers']\n"
     ]
    }
   ],
   "source": [
    "import pandas as pd\n",
    "\n",
    "file = pd.ExcelFile(\"sales.xlsx\")\n",
    "print(file.sheet_names)"
   ]
  },
  {
   "cell_type": "code",
   "execution_count": 2,
   "id": "a6a26442",
   "metadata": {},
   "outputs": [
    {
     "data": {
      "text/html": [
       "<div>\n",
       "<style scoped>\n",
       "    .dataframe tbody tr th:only-of-type {\n",
       "        vertical-align: middle;\n",
       "    }\n",
       "\n",
       "    .dataframe tbody tr th {\n",
       "        vertical-align: top;\n",
       "    }\n",
       "\n",
       "    .dataframe thead th {\n",
       "        text-align: right;\n",
       "    }\n",
       "</style>\n",
       "<table border=\"1\" class=\"dataframe\">\n",
       "  <thead>\n",
       "    <tr style=\"text-align: right;\">\n",
       "      <th></th>\n",
       "      <th>Date</th>\n",
       "      <th>Customer</th>\n",
       "      <th>Invoice</th>\n",
       "      <th>Amount</th>\n",
       "    </tr>\n",
       "  </thead>\n",
       "  <tbody>\n",
       "    <tr>\n",
       "      <th>0</th>\n",
       "      <td>2018-12-01</td>\n",
       "      <td>Steel Brothers Inc.</td>\n",
       "      <td>98</td>\n",
       "      <td>1340</td>\n",
       "    </tr>\n",
       "    <tr>\n",
       "      <th>1</th>\n",
       "      <td>2018-12-10</td>\n",
       "      <td>MMC Inc.</td>\n",
       "      <td>99</td>\n",
       "      <td>1900</td>\n",
       "    </tr>\n",
       "    <tr>\n",
       "      <th>2</th>\n",
       "      <td>2018-12-12</td>\n",
       "      <td>MMC Inc.</td>\n",
       "      <td>100</td>\n",
       "      <td>2900</td>\n",
       "    </tr>\n",
       "    <tr>\n",
       "      <th>3</th>\n",
       "      <td>2018-12-18</td>\n",
       "      <td>Steel Brothers Inc.</td>\n",
       "      <td>101</td>\n",
       "      <td>977</td>\n",
       "    </tr>\n",
       "    <tr>\n",
       "      <th>4</th>\n",
       "      <td>2018-12-21</td>\n",
       "      <td>Steel &amp; Iron LLC</td>\n",
       "      <td>102</td>\n",
       "      <td>3400</td>\n",
       "    </tr>\n",
       "  </tbody>\n",
       "</table>\n",
       "</div>"
      ],
      "text/plain": [
       "        Date             Customer  Invoice  Amount\n",
       "0 2018-12-01  Steel Brothers Inc.       98    1340\n",
       "1 2018-12-10             MMC Inc.       99    1900\n",
       "2 2018-12-12             MMC Inc.      100    2900\n",
       "3 2018-12-18  Steel Brothers Inc.      101     977\n",
       "4 2018-12-21     Steel & Iron LLC      102    3400"
      ]
     },
     "execution_count": 2,
     "metadata": {},
     "output_type": "execute_result"
    }
   ],
   "source": [
    "sheet = file.parse('sales')\n",
    "sheet"
   ]
  },
  {
   "cell_type": "code",
   "execution_count": 3,
   "id": "e4e4a504",
   "metadata": {},
   "outputs": [
    {
     "data": {
      "text/plain": [
       "pandas.core.frame.DataFrame"
      ]
     },
     "execution_count": 3,
     "metadata": {},
     "output_type": "execute_result"
    }
   ],
   "source": [
    "type(sheet)"
   ]
  },
  {
   "cell_type": "code",
   "execution_count": 4,
   "id": "29124281",
   "metadata": {},
   "outputs": [
    {
     "data": {
      "text/plain": [
       "0   2018-12-01\n",
       "1   2018-12-10\n",
       "2   2018-12-12\n",
       "3   2018-12-18\n",
       "4   2018-12-21\n",
       "Name: Date, dtype: datetime64[ns]"
      ]
     },
     "execution_count": 4,
     "metadata": {},
     "output_type": "execute_result"
    }
   ],
   "source": [
    "sheet.Date"
   ]
  },
  {
   "cell_type": "code",
   "execution_count": 5,
   "id": "9dd3062a",
   "metadata": {},
   "outputs": [
    {
     "data": {
      "text/plain": [
       "10517"
      ]
     },
     "execution_count": 5,
     "metadata": {},
     "output_type": "execute_result"
    }
   ],
   "source": [
    "sheet.Amount.sum()"
   ]
  },
  {
   "cell_type": "code",
   "execution_count": 6,
   "id": "f7c104b2",
   "metadata": {},
   "outputs": [
    {
     "data": {
      "text/plain": [
       "Date        2018-12-01 00:00:00\n",
       "Customer    Steel Brothers Inc.\n",
       "Invoice                      98\n",
       "Amount                     1340\n",
       "Name: 0, dtype: object"
      ]
     },
     "execution_count": 6,
     "metadata": {},
     "output_type": "execute_result"
    }
   ],
   "source": [
    "sheet.loc[0]"
   ]
  },
  {
   "cell_type": "code",
   "execution_count": 7,
   "id": "4dfc98e5",
   "metadata": {},
   "outputs": [
    {
     "data": {
      "text/plain": [
       "1340"
      ]
     },
     "execution_count": 7,
     "metadata": {},
     "output_type": "execute_result"
    }
   ],
   "source": [
    "sheet.loc[0, 'Amount']"
   ]
  },
  {
   "cell_type": "code",
   "execution_count": 8,
   "id": "34450f8e",
   "metadata": {},
   "outputs": [
    {
     "data": {
      "text/html": [
       "<div>\n",
       "<style scoped>\n",
       "    .dataframe tbody tr th:only-of-type {\n",
       "        vertical-align: middle;\n",
       "    }\n",
       "\n",
       "    .dataframe tbody tr th {\n",
       "        vertical-align: top;\n",
       "    }\n",
       "\n",
       "    .dataframe thead th {\n",
       "        text-align: right;\n",
       "    }\n",
       "</style>\n",
       "<table border=\"1\" class=\"dataframe\">\n",
       "  <thead>\n",
       "    <tr style=\"text-align: right;\">\n",
       "      <th></th>\n",
       "      <th>Date</th>\n",
       "      <th>Invoice</th>\n",
       "      <th>Amount</th>\n",
       "    </tr>\n",
       "    <tr>\n",
       "      <th>Customer</th>\n",
       "      <th></th>\n",
       "      <th></th>\n",
       "      <th></th>\n",
       "    </tr>\n",
       "  </thead>\n",
       "  <tbody>\n",
       "    <tr>\n",
       "      <th>MMC Inc.</th>\n",
       "      <td>2018-12-10</td>\n",
       "      <td>99</td>\n",
       "      <td>1900</td>\n",
       "    </tr>\n",
       "    <tr>\n",
       "      <th>MMC Inc.</th>\n",
       "      <td>2018-12-12</td>\n",
       "      <td>100</td>\n",
       "      <td>2900</td>\n",
       "    </tr>\n",
       "  </tbody>\n",
       "</table>\n",
       "</div>"
      ],
      "text/plain": [
       "               Date  Invoice  Amount\n",
       "Customer                            \n",
       "MMC Inc. 2018-12-10       99    1900\n",
       "MMC Inc. 2018-12-12      100    2900"
      ]
     },
     "execution_count": 8,
     "metadata": {},
     "output_type": "execute_result"
    }
   ],
   "source": [
    "sheet.set_index('Customer', inplace = True)\n",
    "sheet.loc['MMC Inc.']"
   ]
  },
  {
   "cell_type": "code",
   "execution_count": 9,
   "id": "053ba179",
   "metadata": {},
   "outputs": [
    {
     "data": {
      "text/plain": [
       "0     98\n",
       "1     99\n",
       "2    100\n",
       "3    101\n",
       "4    102\n",
       "Name: Invoice, dtype: int64"
      ]
     },
     "execution_count": 9,
     "metadata": {},
     "output_type": "execute_result"
    }
   ],
   "source": [
    "sheet = sheet.reset_index()\n",
    "sheet['Invoice']"
   ]
  },
  {
   "cell_type": "code",
   "execution_count": 10,
   "id": "2e442efd",
   "metadata": {},
   "outputs": [
    {
     "data": {
      "text/plain": [
       "pandas.core.series.Series"
      ]
     },
     "execution_count": 10,
     "metadata": {},
     "output_type": "execute_result"
    }
   ],
   "source": [
    "type(sheet['Invoice'])"
   ]
  },
  {
   "cell_type": "code",
   "execution_count": 11,
   "id": "a400266d",
   "metadata": {},
   "outputs": [
    {
     "data": {
      "text/html": [
       "<div>\n",
       "<style scoped>\n",
       "    .dataframe tbody tr th:only-of-type {\n",
       "        vertical-align: middle;\n",
       "    }\n",
       "\n",
       "    .dataframe tbody tr th {\n",
       "        vertical-align: top;\n",
       "    }\n",
       "\n",
       "    .dataframe thead th {\n",
       "        text-align: right;\n",
       "    }\n",
       "</style>\n",
       "<table border=\"1\" class=\"dataframe\">\n",
       "  <thead>\n",
       "    <tr style=\"text-align: right;\">\n",
       "      <th></th>\n",
       "      <th>Customer</th>\n",
       "      <th>Date</th>\n",
       "      <th>Invoice</th>\n",
       "      <th>Amount</th>\n",
       "    </tr>\n",
       "  </thead>\n",
       "  <tbody>\n",
       "    <tr>\n",
       "      <th>1</th>\n",
       "      <td>MMC Inc.</td>\n",
       "      <td>2018-12-10</td>\n",
       "      <td>99</td>\n",
       "      <td>1900</td>\n",
       "    </tr>\n",
       "  </tbody>\n",
       "</table>\n",
       "</div>"
      ],
      "text/plain": [
       "   Customer       Date  Invoice  Amount\n",
       "1  MMC Inc. 2018-12-10       99    1900"
      ]
     },
     "execution_count": 11,
     "metadata": {},
     "output_type": "execute_result"
    }
   ],
   "source": [
    "sheet.loc[sheet['Invoice'] == 99]"
   ]
  },
  {
   "cell_type": "code",
   "execution_count": 12,
   "id": "2e524307",
   "metadata": {},
   "outputs": [
    {
     "data": {
      "text/html": [
       "<div>\n",
       "<style scoped>\n",
       "    .dataframe tbody tr th:only-of-type {\n",
       "        vertical-align: middle;\n",
       "    }\n",
       "\n",
       "    .dataframe tbody tr th {\n",
       "        vertical-align: top;\n",
       "    }\n",
       "\n",
       "    .dataframe thead th {\n",
       "        text-align: right;\n",
       "    }\n",
       "</style>\n",
       "<table border=\"1\" class=\"dataframe\">\n",
       "  <thead>\n",
       "    <tr style=\"text-align: right;\">\n",
       "      <th></th>\n",
       "      <th>Customer</th>\n",
       "      <th>Date</th>\n",
       "      <th>Invoice</th>\n",
       "      <th>Amount</th>\n",
       "    </tr>\n",
       "  </thead>\n",
       "  <tbody>\n",
       "    <tr>\n",
       "      <th>2</th>\n",
       "      <td>MMC Inc.</td>\n",
       "      <td>2018-12-12</td>\n",
       "      <td>100</td>\n",
       "      <td>2900</td>\n",
       "    </tr>\n",
       "    <tr>\n",
       "      <th>4</th>\n",
       "      <td>Steel &amp; Iron LLC</td>\n",
       "      <td>2018-12-21</td>\n",
       "      <td>102</td>\n",
       "      <td>3400</td>\n",
       "    </tr>\n",
       "  </tbody>\n",
       "</table>\n",
       "</div>"
      ],
      "text/plain": [
       "           Customer       Date  Invoice  Amount\n",
       "2          MMC Inc. 2018-12-12      100    2900\n",
       "4  Steel & Iron LLC 2018-12-21      102    3400"
      ]
     },
     "execution_count": 12,
     "metadata": {},
     "output_type": "execute_result"
    }
   ],
   "source": [
    "sheet.loc[sheet['Amount'] > 2000]"
   ]
  },
  {
   "cell_type": "code",
   "execution_count": 13,
   "id": "05586100",
   "metadata": {},
   "outputs": [
    {
     "data": {
      "text/plain": [
       "Customer       Steel & Iron LLC\n",
       "Date        2018-12-21 00:00:00\n",
       "Invoice                     102\n",
       "Amount                     3400\n",
       "Name: 4, dtype: object"
      ]
     },
     "execution_count": 13,
     "metadata": {},
     "output_type": "execute_result"
    }
   ],
   "source": [
    "sheet.loc[sheet['Amount'].idxmax()]"
   ]
  },
  {
   "cell_type": "code",
   "execution_count": 14,
   "id": "05b9fe6a",
   "metadata": {},
   "outputs": [
    {
     "data": {
      "text/plain": [
       "'Steel & Iron LLC'"
      ]
     },
     "execution_count": 14,
     "metadata": {},
     "output_type": "execute_result"
    }
   ],
   "source": [
    "sheet.loc[sheet['Amount'].idxmax()]['Customer']"
   ]
  },
  {
   "cell_type": "code",
   "execution_count": 17,
   "id": "425d9f30",
   "metadata": {},
   "outputs": [
    {
     "data": {
      "text/plain": [
       "1            MMC Inc.\n",
       "2            MMC Inc.\n",
       "4    Steel & Iron LLC\n",
       "Name: Customer, dtype: object"
      ]
     },
     "execution_count": 17,
     "metadata": {},
     "output_type": "execute_result"
    }
   ],
   "source": [
    "sheet.loc[sheet['Amount'] > 1800]['Customer']"
   ]
  },
  {
   "cell_type": "code",
   "execution_count": 18,
   "id": "5e1a3315",
   "metadata": {},
   "outputs": [
    {
     "data": {
      "text/plain": [
       "array(['MMC Inc.', 'Steel & Iron LLC'], dtype=object)"
      ]
     },
     "execution_count": 18,
     "metadata": {},
     "output_type": "execute_result"
    }
   ],
   "source": [
    "sheet.loc[sheet['Amount'] > 1800]['Customer'].unique()"
   ]
  },
  {
   "cell_type": "code",
   "execution_count": 19,
   "id": "9cf5c4ae",
   "metadata": {},
   "outputs": [
    {
     "data": {
      "text/plain": [
       "'MMC Inc.'"
      ]
     },
     "execution_count": 19,
     "metadata": {},
     "output_type": "execute_result"
    }
   ],
   "source": [
    "sheet.loc[sheet['Amount'] > 1800]['Customer'].unique()[0]"
   ]
  },
  {
   "cell_type": "code",
   "execution_count": 20,
   "id": "07a7f744",
   "metadata": {},
   "outputs": [
    {
     "name": "stdout",
     "output_type": "stream",
     "text": [
      "MMC Inc.\n",
      "Steel & Iron LLC\n"
     ]
    }
   ],
   "source": [
    "for customer in sheet.loc[sheet['Amount'] > 1800]['Customer'].unique() :\n",
    "    print(customer)"
   ]
  },
  {
   "cell_type": "code",
   "execution_count": null,
   "id": "c930381e",
   "metadata": {},
   "outputs": [],
   "source": []
  }
 ],
 "metadata": {
  "kernelspec": {
   "display_name": "Python 3",
   "language": "python",
   "name": "python3"
  },
  "language_info": {
   "codemirror_mode": {
    "name": "ipython",
    "version": 3
   },
   "file_extension": ".py",
   "mimetype": "text/x-python",
   "name": "python",
   "nbconvert_exporter": "python",
   "pygments_lexer": "ipython3",
   "version": "3.8.8"
  }
 },
 "nbformat": 4,
 "nbformat_minor": 5
}
