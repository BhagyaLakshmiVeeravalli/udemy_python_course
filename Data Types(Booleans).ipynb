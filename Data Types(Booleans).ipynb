{
 "cells": [
  {
   "cell_type": "code",
   "execution_count": 1,
   "id": "d39274b2",
   "metadata": {},
   "outputs": [],
   "source": [
    "myBoolean = True"
   ]
  },
  {
   "cell_type": "code",
   "execution_count": 3,
   "id": "a7a91638",
   "metadata": {},
   "outputs": [
    {
     "data": {
      "text/plain": [
       "bool"
      ]
     },
     "execution_count": 3,
     "metadata": {},
     "output_type": "execute_result"
    }
   ],
   "source": [
    "type(myBoolean)"
   ]
  },
  {
   "cell_type": "code",
   "execution_count": 4,
   "id": "8225c59a",
   "metadata": {},
   "outputs": [],
   "source": [
    "num1 = 8\n",
    "num2 = 4"
   ]
  },
  {
   "cell_type": "code",
   "execution_count": 5,
   "id": "31a50d77",
   "metadata": {},
   "outputs": [
    {
     "data": {
      "text/plain": [
       "True"
      ]
     },
     "execution_count": 5,
     "metadata": {},
     "output_type": "execute_result"
    }
   ],
   "source": [
    "num1 > num2"
   ]
  },
  {
   "cell_type": "code",
   "execution_count": 6,
   "id": "25c10f94",
   "metadata": {},
   "outputs": [
    {
     "data": {
      "text/plain": [
       "False"
      ]
     },
     "execution_count": 6,
     "metadata": {},
     "output_type": "execute_result"
    }
   ],
   "source": [
    "num1 < num2"
   ]
  },
  {
   "cell_type": "code",
   "execution_count": 7,
   "id": "4f3700bf",
   "metadata": {},
   "outputs": [
    {
     "data": {
      "text/plain": [
       "False"
      ]
     },
     "execution_count": 7,
     "metadata": {},
     "output_type": "execute_result"
    }
   ],
   "source": [
    "num1 == num2"
   ]
  },
  {
   "cell_type": "code",
   "execution_count": 8,
   "id": "28fe226c",
   "metadata": {},
   "outputs": [
    {
     "data": {
      "text/plain": [
       "True"
      ]
     },
     "execution_count": 8,
     "metadata": {},
     "output_type": "execute_result"
    }
   ],
   "source": [
    "num1 != num2"
   ]
  },
  {
   "cell_type": "code",
   "execution_count": 9,
   "id": "97f4ffb6",
   "metadata": {},
   "outputs": [
    {
     "data": {
      "text/plain": [
       "True"
      ]
     },
     "execution_count": 9,
     "metadata": {},
     "output_type": "execute_result"
    }
   ],
   "source": [
    "num1 >= num2"
   ]
  },
  {
   "cell_type": "code",
   "execution_count": 11,
   "id": "f04b0328",
   "metadata": {},
   "outputs": [
    {
     "data": {
      "text/plain": [
       "False"
      ]
     },
     "execution_count": 11,
     "metadata": {},
     "output_type": "execute_result"
    }
   ],
   "source": [
    "num1 <= num2"
   ]
  },
  {
   "cell_type": "code",
   "execution_count": 17,
   "id": "d2a1efda",
   "metadata": {},
   "outputs": [
    {
     "name": "stdout",
     "output_type": "stream",
     "text": [
      "Enter the first number:56\n",
      "Enter the second number:36\n",
      "56.0 is greater than 36.0\n"
     ]
    }
   ],
   "source": [
    "num1 = float(input(\"Enter the first number:\"))\n",
    "num2 = float(input(\"Enter the second number:\"))\n",
    "\n",
    "if(num1 > num2) :\n",
    "    print(num1, \"is greater than\", num2)\n",
    "else :\n",
    "    print(num1, \"is less than\", num2)"
   ]
  },
  {
   "cell_type": "code",
   "execution_count": 20,
   "id": "18c96c8b",
   "metadata": {},
   "outputs": [
    {
     "name": "stdout",
     "output_type": "stream",
     "text": [
      "Enter the first number:56\n",
      "Enter the second number:333\n",
      "56.0 is less than 333.0\n"
     ]
    }
   ],
   "source": [
    "num1 = float(input(\"Enter the first number:\"))\n",
    "num2 = float(input(\"Enter the second number:\"))\n",
    "\n",
    "if(num1 > num2) :\n",
    "    print(num1, \"is greater than\", num2)\n",
    "elif(num1 == num2) :\n",
    "    print(num1, \"is equal to\", num2)\n",
    "else :\n",
    "    print(num1, \"is less than\", num2)"
   ]
  },
  {
   "cell_type": "markdown",
   "id": "ba88da73",
   "metadata": {},
   "source": [
    "## practice problem:\n",
    "\n",
    "- Create a program and store your age in a variable. Then, ask the user for his age and print whether:\n",
    "    - He's older than you.\n",
    "    - He's younger than you.\n",
    "    - You two have the same age."
   ]
  },
  {
   "cell_type": "code",
   "execution_count": 22,
   "id": "482629da",
   "metadata": {},
   "outputs": [
    {
     "name": "stdout",
     "output_type": "stream",
     "text": [
      "Enter your age:23\n",
      "He's older than me.\n"
     ]
    }
   ],
   "source": [
    "myAge = 21\n",
    "\n",
    "userAge = int(input(\"Enter your age:\"))\n",
    "\n",
    "if(myAge < userAge) :\n",
    "    print(\"He's older than me.\")\n",
    "elif(myAge > userAge) :\n",
    "    print(\"He's younger than me.\")\n",
    "else:\n",
    "    print(\"We both have the same age.\")"
   ]
  },
  {
   "cell_type": "code",
   "execution_count": null,
   "id": "7a6e5fad",
   "metadata": {},
   "outputs": [],
   "source": []
  }
 ],
 "metadata": {
  "kernelspec": {
   "display_name": "Python 3",
   "language": "python",
   "name": "python3"
  },
  "language_info": {
   "codemirror_mode": {
    "name": "ipython",
    "version": 3
   },
   "file_extension": ".py",
   "mimetype": "text/x-python",
   "name": "python",
   "nbconvert_exporter": "python",
   "pygments_lexer": "ipython3",
   "version": "3.8.8"
  }
 },
 "nbformat": 4,
 "nbformat_minor": 5
}
