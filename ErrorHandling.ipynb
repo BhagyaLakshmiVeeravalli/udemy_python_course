{
 "cells": [
  {
   "cell_type": "code",
   "execution_count": 2,
   "id": "b62b66fd",
   "metadata": {},
   "outputs": [
    {
     "name": "stdout",
     "output_type": "stream",
     "text": [
      "Type a number: free\n"
     ]
    },
    {
     "ename": "ValueError",
     "evalue": "could not convert string to float: 'free'",
     "output_type": "error",
     "traceback": [
      "\u001b[1;31m---------------------------------------------------------------------------\u001b[0m",
      "\u001b[1;31mValueError\u001b[0m                                Traceback (most recent call last)",
      "\u001b[1;32m<ipython-input-2-714b9a11fb47>\u001b[0m in \u001b[0;36m<module>\u001b[1;34m\u001b[0m\n\u001b[1;32m----> 1\u001b[1;33m \u001b[0mnumber\u001b[0m \u001b[1;33m=\u001b[0m \u001b[0mfloat\u001b[0m\u001b[1;33m(\u001b[0m\u001b[0minput\u001b[0m\u001b[1;33m(\u001b[0m\u001b[1;34m\"Type a number: \"\u001b[0m\u001b[1;33m)\u001b[0m\u001b[1;33m)\u001b[0m\u001b[1;33m\u001b[0m\u001b[1;33m\u001b[0m\u001b[0m\n\u001b[0m",
      "\u001b[1;31mValueError\u001b[0m: could not convert string to float: 'free'"
     ]
    }
   ],
   "source": [
    "number = float(input(\"Type a number: \"))"
   ]
  },
  {
   "cell_type": "code",
   "execution_count": 4,
   "id": "8de90846",
   "metadata": {},
   "outputs": [
    {
     "name": "stdout",
     "output_type": "stream",
     "text": [
      "Type a number:22\n",
      "The number is : 22.0\n"
     ]
    }
   ],
   "source": [
    "number = input(\"Type a number:\")\n",
    "\n",
    "try :\n",
    "    number = float(number)\n",
    "    print(\"The number is :\", number)\n",
    "except :\n",
    "    print(\"Invalid number.\")"
   ]
  },
  {
   "cell_type": "markdown",
   "id": "f123cda6",
   "metadata": {},
   "source": [
    "**Exercise: Error Handling**\n",
    "- Apply the try and except statements to the student grades program and keep it from crashing."
   ]
  },
  {
   "cell_type": "code",
   "execution_count": 10,
   "id": "4a48e840",
   "metadata": {},
   "outputs": [
    {
     "name": "stdout",
     "output_type": "stream",
     "text": [
      "Enter the grade of first test:9\n",
      "Enter the grade of second test:9\n",
      "Enter the total number of classes:50\n",
      "Enter the number of absences:60\n",
      "The number of absences can't be less than zero or greater than total classes\n",
      "Enter the number of absences:10\n",
      "Average grade: 9.0\n",
      "Attendance rate: 80.0%\n",
      "The student has been approved.\n"
     ]
    }
   ],
   "source": [
    "data_valid = False\n",
    "while data_valid == False :\n",
    "    grade1 = input(\"Enter the grade of first test:\")\n",
    "    try :\n",
    "        grade1 = float(grade1)\n",
    "    except :\n",
    "        print(\"Invalid input. Only numbers are accepted. decimals should be seperated with a dot.\")\n",
    "        continue\n",
    "    \n",
    "    if grade1 < 0 or grade1 > 10 :\n",
    "        print(\"Grade should be between 0 and 10\")\n",
    "        continue\n",
    "    else :\n",
    "        data_valid = True\n",
    "    \n",
    "data_valid = False\n",
    "while data_valid == False :\n",
    "    grade2 = input(\"Enter the grade of second test:\")\n",
    "    try :\n",
    "        grade2 = float(grade2)\n",
    "    except :\n",
    "        print(\"Invalid input. Only numbers are accepted. decimals should be seperated with a dot.\")\n",
    "        continue\n",
    "        \n",
    "    if grade2 < 0 or grade2 > 10 :\n",
    "        print(\"Grade should be between 0 and 10\")\n",
    "        continue\n",
    "    else :\n",
    "        data_valid = True   \n",
    "        \n",
    "data_valid = False\n",
    "while data_valid == False :\n",
    "    total_classes = input(\"Enter the total number of classes:\")\n",
    "    try :\n",
    "        total_classes = int(total_classes)\n",
    "    except :\n",
    "        print(\"Invalid input. Only numbers are accepted. decimals should be seperated with a dot.\")\n",
    "        continue\n",
    "    if total_classes <= 0 :\n",
    "        print(\"The number of classes can't be zero or less\")\n",
    "        continue\n",
    "    else :\n",
    "        data_valid = True   \n",
    "        \n",
    "data_valid = False        \n",
    "while data_valid == False :\n",
    "    absences = input(\"Enter the number of absences:\")\n",
    "    try :\n",
    "        absences = int(absences)\n",
    "    except :\n",
    "        print(\"Invalid input. Only numbers are accepted. decimals should be seperated with a dot.\")\n",
    "        continue\n",
    "    if absences < 0 or absences > total_classes:\n",
    "        print(\"The number of absences can't be less than zero or greater than total classes\")\n",
    "        continue\n",
    "    else :\n",
    "        data_valid = True          \n",
    "\n",
    "avg_grade = (grade1 + grade2) / 2\n",
    "attendance = (total_classes - absences) / total_classes\n",
    "\n",
    "print(\"Average grade:\", round(avg_grade, 2))\n",
    "print(\"Attendance rate:\", str(round((attendance * 100),2))+'%')\n",
    "\n",
    "if(avg_grade >= 6 and attendance >= 0.8) :\n",
    "    print(\"The student has been approved.\")\n",
    "elif(avg_grade < 6 and attendance < 0.8):\n",
    "    print(\"The student has failed due to  an average grade lower than 6.0. and an attendance rate lower than 80%.\")\n",
    "elif(attendance >= 0.8) :\n",
    "    print(\"The student has failed due to an average grade lower than 6.0.\")\n",
    "else :\n",
    "    print(\"The student has failed due to an attendance rate lower than 80%.\")"
   ]
  },
  {
   "cell_type": "code",
   "execution_count": null,
   "id": "20f4fd50",
   "metadata": {},
   "outputs": [],
   "source": []
  }
 ],
 "metadata": {
  "kernelspec": {
   "display_name": "Python 3",
   "language": "python",
   "name": "python3"
  },
  "language_info": {
   "codemirror_mode": {
    "name": "ipython",
    "version": 3
   },
   "file_extension": ".py",
   "mimetype": "text/x-python",
   "name": "python",
   "nbconvert_exporter": "python",
   "pygments_lexer": "ipython3",
   "version": "3.8.8"
  }
 },
 "nbformat": 4,
 "nbformat_minor": 5
}
