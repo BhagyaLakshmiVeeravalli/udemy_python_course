{
 "cells": [
  {
   "cell_type": "code",
   "execution_count": 5,
   "id": "3cea0ab3",
   "metadata": {},
   "outputs": [
    {
     "name": "stdout",
     "output_type": "stream",
     "text": [
      "Enter the grade of first test:5\n",
      "Enter the grade of second test:5\n",
      "Enter the number of absences:10\n",
      "Enter the total number of classes:20\n",
      "Average grade: 5.0\n",
      "Attendance rate: 50.0%\n",
      "The student has failed due to  an average grade lower than 6.0. and an attendance rate lower than 80%.\n"
     ]
    }
   ],
   "source": [
    "grade1 = float(input(\"Enter the grade of first test:\"))\n",
    "grade2 = float(input(\"Enter the grade of second test:\"))\n",
    "absences = int(input(\"Enter the number of absences:\"))\n",
    "total_classes = int(input(\"Enter the total number of classes:\"))\n",
    "\n",
    "avg_grade = (grade1 + grade2) / 2\n",
    "attendance = (total_classes - absences) / total_classes\n",
    "\n",
    "print(\"Average grade:\", round(avg_grade, 2))\n",
    "print(\"Attendance rate:\", str(round((attendance * 100),2))+'%')\n",
    "\n",
    "if(avg_grade >= 6 and attendance >= 0.8) :\n",
    "    print(\"The student has been approved.\")\n",
    "elif(avg_grade < 6 and attendance < 0.8):\n",
    "    print(\"The student has failed due to  an average grade lower than 6.0. and an attendance rate lower than 80%.\")\n",
    "elif(attendance >= 0.8) :\n",
    "    print(\"The student has failed due to an average grade lower than 6.0.\")\n",
    "else :\n",
    "    print(\"The student has failed due to an attendance rate lower than 80%.\")"
   ]
  },
  {
   "cell_type": "markdown",
   "id": "49e7fef6",
   "metadata": {},
   "source": [
    "## Excercise: COnditionals\n",
    "\n",
    "- Create a program to calculate the BMI(body mass index) of a person.\n",
    "- Ask the user for his height in meters and his weight in kgs.\n",
    ">BMI = weight/ (height * height)\n",
    "\n",
    "- Print the BMI and the classsification.\n",
    "    - Less than or equal to 18.5: Underweight\n",
    "    - Greater than 18.5 or less than or equal to 24.9: Normal weight\n",
    "    - Greater than 24.9 or less than or equal t0 29.9: Overweight\n",
    "    - Greater than or equal to 30: Obesity"
   ]
  },
  {
   "cell_type": "code",
   "execution_count": 10,
   "id": "b6cbbf4c",
   "metadata": {},
   "outputs": [
    {
     "name": "stdout",
     "output_type": "stream",
     "text": [
      "Enter your height in meters(ex: 1.70):1.70\n",
      "Enter your weight in kilograms(ex: 70):50\n",
      "BMI: 17.3\n",
      "Underweight\n"
     ]
    }
   ],
   "source": [
    "height = float(input(\"Enter your height in meters(ex: 1.70):\"))\n",
    "weight = float(input(\"Enter your weight in kilograms(ex: 70):\"))\n",
    "\n",
    "BMI = weight / (height * height)\n",
    "print(\"BMI:\", round(BMI, 2))\n",
    "\n",
    "if(BMI <= 18.5) :\n",
    "    print(\"Underweight\")\n",
    "elif(BMI > 18.5 or BMI <= 24.9) :\n",
    "    print(\"Normal weight\")\n",
    "elif(BMI > 24.9 or BMI <= 29.9) :\n",
    "    print(\"Overweight\")\n",
    "elif(BMI >= 30) :\n",
    "    print(\"Obesity\")"
   ]
  },
  {
   "cell_type": "code",
   "execution_count": null,
   "id": "03e809bf",
   "metadata": {},
   "outputs": [],
   "source": []
  }
 ],
 "metadata": {
  "kernelspec": {
   "display_name": "Python 3",
   "language": "python",
   "name": "python3"
  },
  "language_info": {
   "codemirror_mode": {
    "name": "ipython",
    "version": 3
   },
   "file_extension": ".py",
   "mimetype": "text/x-python",
   "name": "python",
   "nbconvert_exporter": "python",
   "pygments_lexer": "ipython3",
   "version": "3.8.8"
  }
 },
 "nbformat": 4,
 "nbformat_minor": 5
}
