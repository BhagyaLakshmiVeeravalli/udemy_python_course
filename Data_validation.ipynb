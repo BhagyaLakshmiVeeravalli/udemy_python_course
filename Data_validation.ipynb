{
 "cells": [
  {
   "cell_type": "code",
   "execution_count": 5,
   "id": "1288f779",
   "metadata": {},
   "outputs": [
    {
     "name": "stdout",
     "output_type": "stream",
     "text": [
      "Enter the grade of first test:8\n",
      "Enter the grade of second test:8\n",
      "Enter the total number of classes:20\n",
      "Enter the number of absences:-9\n",
      "The number of absences can't be less than zero or greater than total classes\n",
      "Enter the number of absences:56\n",
      "The number of absences can't be less than zero or greater than total classes\n",
      "Enter the number of absences:6\n",
      "Average grade: 8.0\n",
      "Attendance rate: 70.0%\n",
      "The student has failed due to an attendance rate lower than 80%.\n"
     ]
    }
   ],
   "source": [
    "data_valid = False\n",
    "while data_valid == False :\n",
    "    grade1 = float(input(\"Enter the grade of first test:\"))\n",
    "    if grade1 < 0 or grade1 > 10 :\n",
    "        print(\"Grade should be between 0 and 10\")\n",
    "        continue\n",
    "    else :\n",
    "        data_valid = True\n",
    "    \n",
    "data_valid = False\n",
    "while data_valid == False :\n",
    "    grade2 = float(input(\"Enter the grade of second test:\"))\n",
    "    if grade2 < 0 or grade2 > 10 :\n",
    "        print(\"Grade should be between 0 and 10\")\n",
    "        continue\n",
    "    else :\n",
    "        data_valid = True   \n",
    "        \n",
    "data_valid = False\n",
    "while data_valid == False :\n",
    "    total_classes = int(input(\"Enter the total number of classes:\"))\n",
    "    if total_classes <= 0 :\n",
    "        print(\"The number of classes can't be zero or less\")\n",
    "        continue\n",
    "    else :\n",
    "        data_valid = True   \n",
    "        \n",
    "data_valid = False        \n",
    "while data_valid == False :\n",
    "    absences = int(input(\"Enter the number of absences:\"))\n",
    "    if absences < 0 or absences > total_classes:\n",
    "        print(\"The number of absences can't be less than zero or greater than total classes\")\n",
    "        continue\n",
    "    else :\n",
    "        data_valid = True          \n",
    "\n",
    "avg_grade = (grade1 + grade2) / 2\n",
    "attendance = (total_classes - absences) / total_classes\n",
    "\n",
    "print(\"Average grade:\", round(avg_grade, 2))\n",
    "print(\"Attendance rate:\", str(round((attendance * 100),2))+'%')\n",
    "\n",
    "if(avg_grade >= 6 and attendance >= 0.8) :\n",
    "    print(\"The student has been approved.\")\n",
    "elif(avg_grade < 6 and attendance < 0.8):\n",
    "    print(\"The student has failed due to  an average grade lower than 6.0. and an attendance rate lower than 80%.\")\n",
    "elif(attendance >= 0.8) :\n",
    "    print(\"The student has failed due to an average grade lower than 6.0.\")\n",
    "else :\n",
    "    print(\"The student has failed due to an attendance rate lower than 80%.\")"
   ]
  },
  {
   "cell_type": "code",
   "execution_count": null,
   "id": "0fde3f75",
   "metadata": {},
   "outputs": [],
   "source": []
  }
 ],
 "metadata": {
  "kernelspec": {
   "display_name": "Python 3",
   "language": "python",
   "name": "python3"
  },
  "language_info": {
   "codemirror_mode": {
    "name": "ipython",
    "version": 3
   },
   "file_extension": ".py",
   "mimetype": "text/x-python",
   "name": "python",
   "nbconvert_exporter": "python",
   "pygments_lexer": "ipython3",
   "version": "3.8.8"
  }
 },
 "nbformat": 4,
 "nbformat_minor": 5
}
