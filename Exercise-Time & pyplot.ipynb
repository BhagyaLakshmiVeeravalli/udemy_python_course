{
 "cells": [
  {
   "cell_type": "markdown",
   "id": "f3241cc5",
   "metadata": {},
   "source": [
    "### 1. Create a program to help the user type faster. Give him a word and ask him to write it five times. check how many seconds it took him to type theh word at each round."
   ]
  },
  {
   "cell_type": "markdown",
   "id": "bd23f47f",
   "metadata": {},
   "source": [
    "### 2. In the end, tell the user how many mistakes were made and show a chart with the typing speed evolution during the 5 rounds."
   ]
  },
  {
   "cell_type": "code",
   "execution_count": 8,
   "id": "b8489fc3",
   "metadata": {},
   "outputs": [
    {
     "name": "stdout",
     "output_type": "stream",
     "text": [
      "This program will help you to type faster. You will have to type the word 'programming' as fast as you can for five times.\n",
      "Press enter to continue.\n",
      "Type the word: programming\n",
      "Type the word: programming\n",
      "Type the word: programming\n",
      "Type the word: programming\n",
      "Type the word: programming\n",
      "You made 0 mistake(s).\n",
      "Now let us see your evolution\n"
     ]
    },
    {
     "data": {
      "image/png": "[encoded data removed]",
      "text/plain": [
       "<Figure size 432x288 with 1 Axes>"
      ]
     },
     "metadata": {
      "needs_background": "light"
     },
     "output_type": "display_data"
    }
   ],
   "source": [
    "import matplotlib.pyplot as plt\n",
    "import time as t\n",
    "\n",
    "times =[]\n",
    "mistakes = 0\n",
    "\n",
    "print(\"This program will help you to type faster. You will have to type the word 'programming' as fast as you can for five times.\")\n",
    "input(\"Press enter to continue.\")\n",
    "\n",
    "while len(times) < 5:\n",
    "    start = t.time()\n",
    "    word = input('Type the word: ')\n",
    "    end = t.time()\n",
    "    time_elapsed = end - start\n",
    "    \n",
    "    times.append(time_elapsed)\n",
    "    \n",
    "    if(word.lower() != 'programming') :\n",
    "        mistakes += 1\n",
    "\n",
    "print('You made ' + str(mistakes) + ' mistake(s).')\n",
    "print('Now let us see your evolution')\n",
    "t.sleep(3)\n",
    "\n",
    "x = [1, 2, 3, 4, 5]\n",
    "y = times\n",
    "plt.bar(x, y)\n",
    "legend = ['1', '2', '3', '4', '5']\n",
    "plt.xticks(x, legend)\n",
    "plt.xlabel('Attempts')\n",
    "plt.ylabel('Time in seconds')\n",
    "plt.title('Your typing evolution')\n",
    "plt.show()"
   ]
  },
  {
   "cell_type": "code",
   "execution_count": null,
   "id": "3e2ce596",
   "metadata": {},
   "outputs": [],
   "source": []
  }
 ],
 "metadata": {
  "kernelspec": {
   "display_name": "Python 3",
   "language": "python",
   "name": "python3"
  },
  "language_info": {
   "codemirror_mode": {
    "name": "ipython",
    "version": 3
   },
   "file_extension": ".py",
   "mimetype": "text/x-python",
   "name": "python",
   "nbconvert_exporter": "python",
   "pygments_lexer": "ipython3",
   "version": "3.8.8"
  }
 },
 "nbformat": 4,
 "nbformat_minor": 5
}
